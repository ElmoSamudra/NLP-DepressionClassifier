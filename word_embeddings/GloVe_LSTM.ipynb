{
 "cells": [
  {
   "cell_type": "code",
   "execution_count": 48,
   "metadata": {},
   "outputs": [],
   "source": [
    "import pandas as pd\n",
    "import numpy as np\n",
    "import matplotlib.pyplot as plt\n",
    "\n",
    "# split\n",
    "from sklearn.model_selection import StratifiedShuffleSplit\n",
    "\n",
    "# from spam\n",
    "from collections import Counter\n",
    "\n",
    "# word embedding\n",
    "from gensim.models import Word2Vec\n",
    "import multiprocessing\n",
    "from tqdm import tqdm\n",
    "\n",
    "# keras\n",
    "from keras.preprocessing import sequence\n",
    "from keras.regularizers import l2\n",
    "from keras.models import Model, Sequential\n",
    "from keras.layers.merge import concatenate\n",
    "from keras.callbacks import EarlyStopping, ModelCheckpoint, TensorBoard\n",
    "from keras.layers import Dense, GlobalMaxPooling1D, Activation, Dropout, GaussianNoise, LSTM, Bidirectional\n",
    "from keras.layers import Embedding, Input, BatchNormalization, SpatialDropout1D, Conv1D, Concatenate, Flatten\n",
    "from keras.optimizers import Adam\n",
    "from keras.preprocessing.text import Tokenizer\n",
    "from keras.preprocessing.sequence import pad_sequences\n",
    "from keras.models import Sequential\n",
    "import tensorflow as tf\n",
    "\n",
    "from sklearn.metrics import precision_score, recall_score, accuracy_score, confusion_matrix, roc_auc_score, classification_report"
   ]
  },
  {
   "cell_type": "code",
   "execution_count": 2,
   "metadata": {},
   "outputs": [],
   "source": [
    "X_train = pd.read_pickle('X_train_new.pickle')\n",
    "X_test = pd.read_pickle('X_test_new.pickle')"
   ]
  },
  {
   "cell_type": "code",
   "execution_count": 3,
   "metadata": {},
   "outputs": [],
   "source": [
    "X_train.dropna(inplace= True)\n",
    "X_test.dropna(inplace= True)"
   ]
  },
  {
   "cell_type": "code",
   "execution_count": 4,
   "metadata": {},
   "outputs": [],
   "source": [
    "X_test.reset_index(inplace=True)"
   ]
  },
  {
   "cell_type": "code",
   "execution_count": 7,
   "metadata": {},
   "outputs": [],
   "source": [
    "tokenizer = Tokenizer()\n",
    "tokenizer.fit_on_texts(list(X_train['tokenized_text']))\n",
    "list_tokenized_train = tokenizer.texts_to_sequences(X_train['tokenized_text'])\n",
    "list_tokenized_test = tokenizer.texts_to_sequences(X_test['tokenized_text'])"
   ]
  },
  {
   "cell_type": "code",
   "execution_count": 12,
   "metadata": {},
   "outputs": [],
   "source": [
    "pad_train = pad_sequences(list_tokenized_train, maxlen=150, padding='post')\n",
    "pad_test = pad_sequences(list_tokenized_test, maxlen=150, padding='post')"
   ]
  },
  {
   "cell_type": "code",
   "execution_count": 13,
   "metadata": {},
   "outputs": [],
   "source": [
    "vocab_size = len(tokenizer.word_index)+1"
   ]
  },
  {
   "cell_type": "code",
   "execution_count": 14,
   "metadata": {},
   "outputs": [],
   "source": [
    "y_target = pd.get_dummies(X_train['mental_state']).values\n",
    "y_target_test = pd.get_dummies(X_test['mental_state']).values"
   ]
  },
  {
   "cell_type": "markdown",
   "metadata": {},
   "source": [
    "https://medium.com/@sarin.samarth07/glove-word-embeddings-with-keras-python-code-52131b0c8b1d"
   ]
  },
  {
   "cell_type": "code",
   "execution_count": 15,
   "metadata": {},
   "outputs": [
    {
     "name": "stderr",
     "output_type": "stream",
     "text": [
      "1917495it [02:38, 12121.38it/s]\n"
     ]
    }
   ],
   "source": [
    "embedding_vector = {}\n",
    "f = open('glove.42B.300d.txt')\n",
    "for line in tqdm(f):\n",
    "    value = line.split(' ')\n",
    "    word = value[0]\n",
    "    coef = np.array(value[1:],dtype = 'float32')\n",
    "    embedding_vector[word] = coef"
   ]
  },
  {
   "cell_type": "code",
   "execution_count": 16,
   "metadata": {},
   "outputs": [
    {
     "name": "stderr",
     "output_type": "stream",
     "text": [
      "100%|██████████| 257265/257265 [00:00<00:00, 403961.73it/s]\n"
     ]
    }
   ],
   "source": [
    "embedding_matrix = np.zeros((vocab_size,300))\n",
    "for word,i in tqdm(tokenizer.word_index.items()):\n",
    "    embedding_value = embedding_vector.get(word)\n",
    "    if embedding_value is not None:\n",
    "        embedding_matrix[i] = embedding_value"
   ]
  },
  {
   "cell_type": "code",
   "execution_count": null,
   "metadata": {},
   "outputs": [],
   "source": [
    "model = Sequential()\n",
    "model.add(Embedding(vocab_size,300,weights = [embedding_matrix],input_length=150,trainable = False))\n",
    "model.add(Bidirectional(LSTM(64)))\n",
    "model.add(Dense(32,activation = 'relu'))\n",
    "model.add(Dense(3,activation = 'softmax'))\n",
    "model.compile(optimizer='adam',loss='categorical_crossentropy',metrics = ['accuracy'])\n"
   ]
  },
  {
   "cell_type": "code",
   "execution_count": 18,
   "metadata": {
    "scrolled": true
   },
   "outputs": [
    {
     "name": "stdout",
     "output_type": "stream",
     "text": [
      "Train on 1172541 samples, validate on 293136 samples\n",
      "Epoch 1/10\n",
      "1172541/1172541 [==============================] - 2004s 2ms/step - loss: 0.5332 - accuracy: 0.7637 - val_loss: 0.4971 - val_accuracy: 0.7795\n",
      "Epoch 2/10\n",
      "1172541/1172541 [==============================] - 2034s 2ms/step - loss: 0.4824 - accuracy: 0.7879 - val_loss: 0.4817 - val_accuracy: 0.7886\n",
      "Epoch 3/10\n",
      "1172541/1172541 [==============================] - 2065s 2ms/step - loss: 0.4663 - accuracy: 0.7952 - val_loss: 0.4751 - val_accuracy: 0.7916\n",
      "Epoch 4/10\n",
      "1172541/1172541 [==============================] - 2036s 2ms/step - loss: 0.4549 - accuracy: 0.8004 - val_loss: 0.4699 - val_accuracy: 0.7938\n",
      "Epoch 5/10\n",
      "1172541/1172541 [==============================] - 2021s 2ms/step - loss: 0.4454 - accuracy: 0.8048 - val_loss: 0.4720 - val_accuracy: 0.7942\n",
      "Epoch 6/10\n",
      " 600064/1172541 [==============>...............] - ETA: 14:19 - loss: 0.4355 - accuracy: 0.8093"
     ]
    },
    {
     "name": "stderr",
     "output_type": "stream",
     "text": [
      "IOPub message rate exceeded.\n",
      "The notebook server will temporarily stop sending output\n",
      "to the client in order to avoid crashing it.\n",
      "To change this limit, set the config variable\n",
      "`--NotebookApp.iopub_msg_rate_limit`.\n",
      "\n",
      "Current values:\n",
      "NotebookApp.iopub_msg_rate_limit=1000.0 (msgs/sec)\n",
      "NotebookApp.rate_limit_window=3.0 (secs)\n",
      "\n"
     ]
    }
   ],
   "source": [
    "es = EarlyStopping(monitor='val_loss', mode='min', verbose=1, patience=2)\n",
    "\n",
    "history = model.fit(pad_train,y_target,epochs = 10,batch_size=256,validation_split=0.2, callbacks = [es])"
   ]
  },
  {
   "cell_type": "code",
   "execution_count": 19,
   "metadata": {},
   "outputs": [],
   "source": [
    "model.save(\"model_bilstm_10_epoch.h5\")"
   ]
  },
  {
   "cell_type": "code",
   "execution_count": 20,
   "metadata": {},
   "outputs": [],
   "source": [
    "def performance(y_true, y_hat):\n",
    "    \n",
    "    y_true = list(map(lambda x: np.argmax(x), y_true))\n",
    "    y_hat = list(map(lambda x: np.argmax(x), y_hat))\n",
    "    \n",
    "    y_true_roc = pd.DataFrame(y_true, columns = ['mental_state'])\n",
    "    y_hat_roc = pd.DataFrame(y_hat, columns = ['mental_state'])\n",
    "    \n",
    "    y_true_roc = pd.get_dummies(y_true_roc['mental_state']).values\n",
    "    y_hat_roc = pd.get_dummies(y_hat_roc['mental_state']).values\n",
    "    \n",
    "    # result template\n",
    "    print('-'*40+' Result Report '+'-'*40)\n",
    "    \n",
    "    # Accuracy\n",
    "    print('Accuracy: ', accuracy_score(y_true,y_hat))\n",
    "    \n",
    "    # Confusion matrix\n",
    "    print('\\n')\n",
    "    print('Confusion Matrix: \\n', confusion_matrix(y_true,y_hat))\n",
    "    print('\\n')\n",
    "\n",
    "    # Classification Report\n",
    "    print('Classification Report: \\n')\n",
    "    print(classification_report(y_true, y_hat))\n",
    "    print('\\n')\n",
    "    \n",
    "    # Aggregated area under the ROC curve\n",
    "    print('Area under ROC curve: ', roc_auc_score(y_true_roc, y_hat_roc, multi_class='ovo'))\n",
    "    \n",
    "    print('-'*95)"
   ]
  },
  {
   "cell_type": "markdown",
   "metadata": {},
   "source": [
    "### Result"
   ]
  },
  {
   "cell_type": "code",
   "execution_count": 21,
   "metadata": {},
   "outputs": [],
   "source": [
    "predictions = model.predict(pad_test)"
   ]
  },
  {
   "cell_type": "code",
   "execution_count": 22,
   "metadata": {},
   "outputs": [
    {
     "name": "stdout",
     "output_type": "stream",
     "text": [
      "---------------------------------------- Result Report ----------------------------------------\n",
      "Accuracy:  0.7931528532052506\n",
      "\n",
      "\n",
      "Confusion Matrix: \n",
      " [[ 95901   9374   2687]\n",
      " [  9239 133010  25876]\n",
      " [  3715  24904  61724]]\n",
      "\n",
      "\n",
      "Classification Report: \n",
      "\n",
      "              precision    recall  f1-score   support\n",
      "\n",
      "           0       0.88      0.89      0.88    107962\n",
      "           1       0.80      0.79      0.79    168125\n",
      "           2       0.68      0.68      0.68     90343\n",
      "\n",
      "    accuracy                           0.79    366430\n",
      "   macro avg       0.79      0.79      0.79    366430\n",
      "weighted avg       0.79      0.79      0.79    366430\n",
      "\n",
      "\n",
      "\n",
      "Area under ROC curve:  0.8393684766018549\n",
      "-----------------------------------------------------------------------------------------------\n"
     ]
    }
   ],
   "source": [
    "performance(y_target_test, predictions)"
   ]
  },
  {
   "cell_type": "markdown",
   "metadata": {},
   "source": [
    "### Plot the history result to check for overfit"
   ]
  },
  {
   "cell_type": "code",
   "execution_count": 32,
   "metadata": {},
   "outputs": [
    {
     "data": {
      "image/png": "[encoded data removed]",
      "text/plain": [
       "<Figure size 432x288 with 1 Axes>"
      ]
     },
     "metadata": {
      "needs_background": "light"
     },
     "output_type": "display_data"
    }
   ],
   "source": [
    "plt.plot(history.history['accuracy'])\n",
    "plt.plot(history.history['val_accuracy'])\n",
    "plt.title('model accuracy')\n",
    "plt.ylabel('accuracy')\n",
    "plt.xlabel('epoch')\n",
    "plt.legend(['train', 'validation'], loc='upper left')\n",
    "plt.show()"
   ]
  },
  {
   "cell_type": "code",
   "execution_count": 33,
   "metadata": {},
   "outputs": [
    {
     "data": {
      "image/png": "[encoded data removed]",
      "text/plain": [
       "<Figure size 432x288 with 1 Axes>"
      ]
     },
     "metadata": {
      "needs_background": "light"
     },
     "output_type": "display_data"
    }
   ],
   "source": [
    "plt.plot(history.history['loss'])\n",
    "plt.plot(history.history['val_loss'])\n",
    "plt.title('model loss')\n",
    "plt.ylabel('loss')\n",
    "plt.xlabel('epoch')\n",
    "plt.legend(['train', 'validation'], loc='upper left')\n",
    "plt.show()"
   ]
  },
  {
   "cell_type": "code",
   "execution_count": 46,
   "metadata": {},
   "outputs": [],
   "source": [
    "def check_mental_state(model, post, tokenizer):\n",
    "    \n",
    "    dic_state = {0:'Normal', 1:'Depressed', 2:'Suicidal'}\n",
    "    \n",
    "    SET_LIMIT_SENTENCE = 150\n",
    "    \n",
    "    print('Post: \\n')\n",
    "    print(post)\n",
    "    print('\\n')\n",
    "    \n",
    "    list_post = [post]\n",
    "    list_post_tokenized = tokenizer.texts_to_sequences(list_post)\n",
    "    post_pad = pad_sequences(list_post_tokenized, maxlen=SET_LIMIT_SENTENCE, padding='post')\n",
    "    \n",
    "    # classify mental state\n",
    "    mental_state = model.predict(post_pad)\n",
    "    \n",
    "    print('Normal: ', str(round(mental_state[0][0], 2)*100)+'%')\n",
    "    print('Depressed: ', str(round(mental_state[0][1], 2)*100)+'%')\n",
    "    print('Suicidal: ', str(round(mental_state[0][2], 2)*100)+'%')\n",
    "    \n",
    "    classify_state = np.argmax(mental_state[0])\n",
    "    #list(map(lambda x: np.argmax(x), mental_state))\n",
    "    \n",
    "    print('\\n')\n",
    "    print('Model Classify: ', dic_state[classify_state])"
   ]
  },
  {
   "cell_type": "markdown",
   "metadata": {},
   "source": [
    "### Post Test"
   ]
  },
  {
   "cell_type": "code",
   "execution_count": 28,
   "metadata": {},
   "outputs": [
    {
     "name": "stdout",
     "output_type": "stream",
     "text": [
      "Post: \n",
      "\n",
      "i know i tried everything guys i gone different psychologists types anti depressants i made effort get bed every day walk my dog go gym read distant feeling increases exponentially day i never really loved life i loved people it lately spark disappeared i connect anyone fine i even connect my parents kills me inside i want stop mundane cycle my life become initially i told myself i stick it them i longer hold restrictions i always tried my best persevere keep looking forward i cried day today i realized threshold kept me taking action disappeared i want it feel selfish even thoughts somewhere i smiled loved i feel outcome inevitable please help\n",
      "\n",
      "\n",
      "Normal:  0.0%\n",
      "Depressed:  68.00000071525574%\n",
      "Suicidal:  31.999999284744263%\n",
      "\n",
      "\n",
      "Model Classify:  Depressed\n"
     ]
    }
   ],
   "source": [
    "post = X_test[X_test['mental_state']==2]['tokenized_text'][19]\n",
    "check_mental_state(model, post, tokenizer)"
   ]
  },
  {
   "cell_type": "code",
   "execution_count": 29,
   "metadata": {},
   "outputs": [
    {
     "name": "stdout",
     "output_type": "stream",
     "text": [
      "Post: \n",
      "\n",
      "cc room get enough love time day come play some music hang cc room great way find new music chatting lovely people we got people room we would love come party us follow link https hit headphones sidebar go room you need sign you account already it quick easy\n",
      "\n",
      "\n",
      "Normal:  100.0%\n",
      "Depressed:  0.0%\n",
      "Suicidal:  0.0%\n",
      "\n",
      "\n",
      "Model Classify:  Normal\n"
     ]
    }
   ],
   "source": [
    "post = X_test[X_test['mental_state']==0]['tokenized_text'][2]\n",
    "check_mental_state(model, post, tokenizer)"
   ]
  },
  {
   "cell_type": "code",
   "execution_count": null,
   "metadata": {},
   "outputs": [],
   "source": [
    "post = X_test['tokenized_text'][36642]\n",
    "check_mental_state(model, post, tokenizer)"
   ]
  }
 ],
 "metadata": {
  "kernelspec": {
   "display_name": "Python 3",
   "language": "python",
   "name": "python3"
  },
  "language_info": {
   "codemirror_mode": {
    "name": "ipython",
    "version": 3
   },
   "file_extension": ".py",
   "mimetype": "text/x-python",
   "name": "python",
   "nbconvert_exporter": "python",
   "pygments_lexer": "ipython3",
   "version": "3.6.9"
  }
 },
 "nbformat": 4,
 "nbformat_minor": 4
}
