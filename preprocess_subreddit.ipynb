{
 "cells": [
  {
   "cell_type": "code",
   "execution_count": 1,
   "metadata": {},
   "outputs": [],
   "source": [
    "import pandas as pd\n",
    "import nltk\n",
    "import re"
   ]
  },
  {
   "cell_type": "code",
   "execution_count": 2,
   "metadata": {},
   "outputs": [],
   "source": [
    "data = pd.read_csv('depression.csv', lineterminator='\\n')"
   ]
  },
  {
   "cell_type": "code",
   "execution_count": 3,
   "metadata": {},
   "outputs": [
    {
     "name": "stdout",
     "output_type": "stream",
     "text": [
      "<class 'pandas.core.frame.DataFrame'>\n",
      "RangeIndex: 957593 entries, 0 to 957592\n",
      "Data columns (total 2 columns):\n",
      " #   Column     Non-Null Count   Dtype \n",
      "---  ------     --------------   ----- \n",
      " 0   title      957589 non-null  object\n",
      " 1   self_text  851537 non-null  object\n",
      "dtypes: object(2)\n",
      "memory usage: 14.6+ MB\n"
     ]
    }
   ],
   "source": [
    "data.info()"
   ]
  },
  {
   "cell_type": "code",
   "execution_count": 4,
   "metadata": {},
   "outputs": [],
   "source": [
    "data['title'] = data['title'].astype('str')\n",
    "data['self_text'] = data['self_text'].astype('str')"
   ]
  },
  {
   "cell_type": "code",
   "execution_count": 5,
   "metadata": {},
   "outputs": [
    {
     "data": {
      "text/html": [
       "<div>\n",
       "<style scoped>\n",
       "    .dataframe tbody tr th:only-of-type {\n",
       "        vertical-align: middle;\n",
       "    }\n",
       "\n",
       "    .dataframe tbody tr th {\n",
       "        vertical-align: top;\n",
       "    }\n",
       "\n",
       "    .dataframe thead th {\n",
       "        text-align: right;\n",
       "    }\n",
       "</style>\n",
       "<table border=\"1\" class=\"dataframe\">\n",
       "  <thead>\n",
       "    <tr style=\"text-align: right;\">\n",
       "      <th></th>\n",
       "      <th>title</th>\n",
       "      <th>self_text</th>\n",
       "    </tr>\n",
       "  </thead>\n",
       "  <tbody>\n",
       "    <tr>\n",
       "      <th>0</th>\n",
       "      <td>So many kinds of therapists...what to choose?</td>\n",
       "      <td>Pretty simply question here. I've been thinkin...</td>\n",
       "    </tr>\n",
       "    <tr>\n",
       "      <th>1</th>\n",
       "      <td>i'm drawing a comic thing</td>\n",
       "      <td>---</td>\n",
       "    </tr>\n",
       "    <tr>\n",
       "      <th>2</th>\n",
       "      <td>Tired of rejection..</td>\n",
       "      <td>I'm 20 [M] and never had a real girlfriend. Th...</td>\n",
       "    </tr>\n",
       "    <tr>\n",
       "      <th>3</th>\n",
       "      <td>Everyone thinks I'm fine.. but I'm no where close</td>\n",
       "      <td>I don't really mind if anyone reads or cares a...</td>\n",
       "    </tr>\n",
       "    <tr>\n",
       "      <th>4</th>\n",
       "      <td>honesty</td>\n",
       "      <td>I drink most nights because I am unhappy.  I a...</td>\n",
       "    </tr>\n",
       "  </tbody>\n",
       "</table>\n",
       "</div>"
      ],
      "text/plain": [
       "                                               title  \\\n",
       "0      So many kinds of therapists...what to choose?   \n",
       "1                          i'm drawing a comic thing   \n",
       "2                               Tired of rejection..   \n",
       "3  Everyone thinks I'm fine.. but I'm no where close   \n",
       "4                                            honesty   \n",
       "\n",
       "                                           self_text  \n",
       "0  Pretty simply question here. I've been thinkin...  \n",
       "1                                                ---  \n",
       "2  I'm 20 [M] and never had a real girlfriend. Th...  \n",
       "3  I don't really mind if anyone reads or cares a...  \n",
       "4  I drink most nights because I am unhappy.  I a...  "
      ]
     },
     "execution_count": 5,
     "metadata": {},
     "output_type": "execute_result"
    }
   ],
   "source": [
    "data.head()"
   ]
  },
  {
   "cell_type": "code",
   "execution_count": 6,
   "metadata": {},
   "outputs": [],
   "source": [
    "data['texts'] = data['title']+\" \"+data['self_text']"
   ]
  },
  {
   "cell_type": "code",
   "execution_count": 7,
   "metadata": {},
   "outputs": [],
   "source": [
    "data.drop(labels=['title', 'self_text'], axis=1, inplace = True)"
   ]
  },
  {
   "cell_type": "code",
   "execution_count": 8,
   "metadata": {},
   "outputs": [
    {
     "data": {
      "text/html": [
       "<div>\n",
       "<style scoped>\n",
       "    .dataframe tbody tr th:only-of-type {\n",
       "        vertical-align: middle;\n",
       "    }\n",
       "\n",
       "    .dataframe tbody tr th {\n",
       "        vertical-align: top;\n",
       "    }\n",
       "\n",
       "    .dataframe thead th {\n",
       "        text-align: right;\n",
       "    }\n",
       "</style>\n",
       "<table border=\"1\" class=\"dataframe\">\n",
       "  <thead>\n",
       "    <tr style=\"text-align: right;\">\n",
       "      <th></th>\n",
       "      <th>texts</th>\n",
       "    </tr>\n",
       "  </thead>\n",
       "  <tbody>\n",
       "    <tr>\n",
       "      <th>0</th>\n",
       "      <td>So many kinds of therapists...what to choose? ...</td>\n",
       "    </tr>\n",
       "    <tr>\n",
       "      <th>1</th>\n",
       "      <td>i'm drawing a comic thing ---</td>\n",
       "    </tr>\n",
       "    <tr>\n",
       "      <th>2</th>\n",
       "      <td>Tired of rejection.. I'm 20 [M] and never had ...</td>\n",
       "    </tr>\n",
       "    <tr>\n",
       "      <th>3</th>\n",
       "      <td>Everyone thinks I'm fine.. but I'm no where cl...</td>\n",
       "    </tr>\n",
       "    <tr>\n",
       "      <th>4</th>\n",
       "      <td>honesty I drink most nights because I am unhap...</td>\n",
       "    </tr>\n",
       "  </tbody>\n",
       "</table>\n",
       "</div>"
      ],
      "text/plain": [
       "                                               texts\n",
       "0  So many kinds of therapists...what to choose? ...\n",
       "1                      i'm drawing a comic thing ---\n",
       "2  Tired of rejection.. I'm 20 [M] and never had ...\n",
       "3  Everyone thinks I'm fine.. but I'm no where cl...\n",
       "4  honesty I drink most nights because I am unhap..."
      ]
     },
     "execution_count": 8,
     "metadata": {},
     "output_type": "execute_result"
    }
   ],
   "source": [
    "data.head()"
   ]
  },
  {
   "cell_type": "code",
   "execution_count": 9,
   "metadata": {},
   "outputs": [],
   "source": [
    "words_of_interest = ['depressed', 'depression', 'stress', 'help', \n",
    "                     'suicide', 'devastated', 'frustrated',\n",
    "                    \"upsetting\", \"distressing\", \"painful\", \"heartbreaking\", \n",
    "                     \"dispiriting\", \"disheartening\", \"discouraging\", \"demoralizing\"]"
   ]
  },
  {
   "cell_type": "code",
   "execution_count": 10,
   "metadata": {},
   "outputs": [],
   "source": [
    "def search_word(data, words):\n",
    "    for each_word in words:\n",
    "        if re.search(each_word, data):\n",
    "            return 1\n",
    "    return 0"
   ]
  },
  {
   "cell_type": "code",
   "execution_count": 11,
   "metadata": {},
   "outputs": [],
   "source": [
    "data['count'] = data['texts'].apply(lambda x: search_word(x, words_of_interest))\n"
   ]
  },
  {
   "cell_type": "code",
   "execution_count": 12,
   "metadata": {},
   "outputs": [
    {
     "name": "stdout",
     "output_type": "stream",
     "text": [
      "Number of posts that contain depressed words: 514868\n"
     ]
    }
   ],
   "source": [
    "tot = data['count'].sum()\n",
    "print(f'Number of posts that contain depressed words: {tot}')"
   ]
  },
  {
   "cell_type": "markdown",
   "metadata": {},
   "source": [
    "## Tokenize and Clean"
   ]
  },
  {
   "cell_type": "code",
   "execution_count": 16,
   "metadata": {},
   "outputs": [
    {
     "name": "stderr",
     "output_type": "stream",
     "text": [
      "[nltk_data] Downloading package punkt to\n",
      "[nltk_data]     /home/student.unimelb.edu.au/jprasetiyo/nltk_data...\n",
      "[nltk_data]   Package punkt is already up-to-date!\n"
     ]
    },
    {
     "data": {
      "text/plain": [
       "True"
      ]
     },
     "execution_count": 16,
     "metadata": {},
     "output_type": "execute_result"
    }
   ],
   "source": [
    "from nltk.tokenize import word_tokenize\n",
    "import nltk\n",
    "nltk.download('punkt')"
   ]
  },
  {
   "cell_type": "code",
   "execution_count": 15,
   "metadata": {},
   "outputs": [],
   "source": [
    "data['tokenized_text'] = data['texts']"
   ]
  },
  {
   "cell_type": "code",
   "execution_count": 17,
   "metadata": {},
   "outputs": [],
   "source": [
    "data['tokenized_text'] = data[\"tokenized_text\"].apply(lambda x: x.lower()).apply(word_tokenize)"
   ]
  },
  {
   "cell_type": "code",
   "execution_count": 18,
   "metadata": {},
   "outputs": [],
   "source": [
    "stop_words = [ 'what', 'which', 'who', 'whom', 'this', 'that', \"that'll\",'these', 'those', 'am', 'is', 'was', 'were',\n",
    " 'be','been', 'being', 'have', 'has', 'had', 'having', 'do', 'does', 'did', 'doing', 'a', 'an', 'the', 'and', 'but',\n",
    " 'if', 'or', 'because', 'as', 'until', 'while', 'of', 'at', 'by', 'for', 'with', 'about', 'against', 'between', 'into',\n",
    " 'through', 'during', 'before','after', 'above', 'below', 'to', 'from', 'up', 'down', 'in', 'out', 'on','off', 'over',\n",
    " 'under', 'again', 'further', 'then', 'once', 'here', 'there', 'when', 'where', 'why', 'how', 'all', 'any', 'both', 'each',\n",
    " 'few', 'more', 'most', 'other', 'such', 'no', 'nor', 'not', 'only', 'own', 'same', 'so', 'than', 'too', 'very', 's', 't', 'can',\n",
    " 'will', 'just', 'don', \"don't\", 'should', \"should've\", 'now', 'd', 'll', 'm', 'o', 're', 've', 'y', 'ain', 'aren', \"aren't\",\n",
    " 'couldn', \"couldn't\", 'didn', \"didn't\", 'doesn', \"doesn't\", 'hadn', \"hadn't\", 'hasn', \"hasn't\", 'haven', \"haven't\", 'isn',\n",
    "  \"isn't\", 'ma', 'mightn',\"mightn't\", 'mustn', \"mustn't\", 'needn', \"needn't\", 'shan', \"shan't\", 'shouldn', \"shouldn't\", 'wasn',\n",
    " \"wasn't\", 'weren', \"weren't\", 'won',\"won't\", 'wouldn',\"wouldn't\", \"http\"]\n",
    "\n",
    "\n",
    "# remove stop words\n",
    "data['tokenized_text'] = data[\"tokenized_text\"].apply(lambda x: [word for word in x if word not in stop_words])"
   ]
  },
  {
   "cell_type": "code",
   "execution_count": 20,
   "metadata": {},
   "outputs": [],
   "source": [
    "# remove non alphanumeric words\n",
    "data['tokenized_text'] = data[\"tokenized_text\"].apply(lambda x: [word for word in x if word.isalnum()])"
   ]
  },
  {
   "cell_type": "code",
   "execution_count": 21,
   "metadata": {},
   "outputs": [],
   "source": [
    "data.to_csv(\"depression_tokenized.csv\", index=False)"
   ]
  },
  {
   "cell_type": "code",
   "execution_count": 22,
   "metadata": {},
   "outputs": [
    {
     "data": {
      "text/html": [
       "<div>\n",
       "<style scoped>\n",
       "    .dataframe tbody tr th:only-of-type {\n",
       "        vertical-align: middle;\n",
       "    }\n",
       "\n",
       "    .dataframe tbody tr th {\n",
       "        vertical-align: top;\n",
       "    }\n",
       "\n",
       "    .dataframe thead th {\n",
       "        text-align: right;\n",
       "    }\n",
       "</style>\n",
       "<table border=\"1\" class=\"dataframe\">\n",
       "  <thead>\n",
       "    <tr style=\"text-align: right;\">\n",
       "      <th></th>\n",
       "      <th>texts</th>\n",
       "      <th>count</th>\n",
       "      <th>tokenized_text</th>\n",
       "    </tr>\n",
       "  </thead>\n",
       "  <tbody>\n",
       "    <tr>\n",
       "      <th>0</th>\n",
       "      <td>So many kinds of therapists...what to choose? ...</td>\n",
       "      <td>1</td>\n",
       "      <td>[many, kinds, therapists, choose, pretty, simp...</td>\n",
       "    </tr>\n",
       "    <tr>\n",
       "      <th>1</th>\n",
       "      <td>i'm drawing a comic thing ---</td>\n",
       "      <td>0</td>\n",
       "      <td>[i, drawing, comic, thing]</td>\n",
       "    </tr>\n",
       "    <tr>\n",
       "      <th>2</th>\n",
       "      <td>Tired of rejection.. I'm 20 [M] and never had ...</td>\n",
       "      <td>0</td>\n",
       "      <td>[tired, i, 20, never, real, girlfriend, relati...</td>\n",
       "    </tr>\n",
       "    <tr>\n",
       "      <th>3</th>\n",
       "      <td>Everyone thinks I'm fine.. but I'm no where cl...</td>\n",
       "      <td>1</td>\n",
       "      <td>[everyone, thinks, i, i, close, i, really, min...</td>\n",
       "    </tr>\n",
       "    <tr>\n",
       "      <th>4</th>\n",
       "      <td>honesty I drink most nights because I am unhap...</td>\n",
       "      <td>0</td>\n",
       "      <td>[honesty, i, drink, nights, i, unhappy, i, unh...</td>\n",
       "    </tr>\n",
       "    <tr>\n",
       "      <th>...</th>\n",
       "      <td>...</td>\n",
       "      <td>...</td>\n",
       "      <td>...</td>\n",
       "    </tr>\n",
       "    <tr>\n",
       "      <th>957588</th>\n",
       "      <td>Someone please answer As you can see by the ti...</td>\n",
       "      <td>1</td>\n",
       "      <td>[someone, please, answer, you, see, title, my,...</td>\n",
       "    </tr>\n",
       "    <tr>\n",
       "      <th>957589</th>\n",
       "      <td>I've usually been the person to show up and he...</td>\n",
       "      <td>1</td>\n",
       "      <td>[i, usually, person, show, help, everyone, i, ...</td>\n",
       "    </tr>\n",
       "    <tr>\n",
       "      <th>957590</th>\n",
       "      <td>My life is just kinda shit I'm a college stude...</td>\n",
       "      <td>0</td>\n",
       "      <td>[my, life, kinda, shit, i, college, student, i...</td>\n",
       "    </tr>\n",
       "    <tr>\n",
       "      <th>957591</th>\n",
       "      <td>I survived A few months ago I survived an over...</td>\n",
       "      <td>0</td>\n",
       "      <td>[i, survived, months, ago, i, survived, overdo...</td>\n",
       "    </tr>\n",
       "    <tr>\n",
       "      <th>957592</th>\n",
       "      <td>I lost my brother 6 months ago in March 13 I l...</td>\n",
       "      <td>0</td>\n",
       "      <td>[i, lost, my, brother, 6, months, ago, march, ...</td>\n",
       "    </tr>\n",
       "  </tbody>\n",
       "</table>\n",
       "<p>957593 rows × 3 columns</p>\n",
       "</div>"
      ],
      "text/plain": [
       "                                                    texts  count  \\\n",
       "0       So many kinds of therapists...what to choose? ...      1   \n",
       "1                           i'm drawing a comic thing ---      0   \n",
       "2       Tired of rejection.. I'm 20 [M] and never had ...      0   \n",
       "3       Everyone thinks I'm fine.. but I'm no where cl...      1   \n",
       "4       honesty I drink most nights because I am unhap...      0   \n",
       "...                                                   ...    ...   \n",
       "957588  Someone please answer As you can see by the ti...      1   \n",
       "957589  I've usually been the person to show up and he...      1   \n",
       "957590  My life is just kinda shit I'm a college stude...      0   \n",
       "957591  I survived A few months ago I survived an over...      0   \n",
       "957592  I lost my brother 6 months ago in March 13 I l...      0   \n",
       "\n",
       "                                           tokenized_text  \n",
       "0       [many, kinds, therapists, choose, pretty, simp...  \n",
       "1                              [i, drawing, comic, thing]  \n",
       "2       [tired, i, 20, never, real, girlfriend, relati...  \n",
       "3       [everyone, thinks, i, i, close, i, really, min...  \n",
       "4       [honesty, i, drink, nights, i, unhappy, i, unh...  \n",
       "...                                                   ...  \n",
       "957588  [someone, please, answer, you, see, title, my,...  \n",
       "957589  [i, usually, person, show, help, everyone, i, ...  \n",
       "957590  [my, life, kinda, shit, i, college, student, i...  \n",
       "957591  [i, survived, months, ago, i, survived, overdo...  \n",
       "957592  [i, lost, my, brother, 6, months, ago, march, ...  \n",
       "\n",
       "[957593 rows x 3 columns]"
      ]
     },
     "execution_count": 22,
     "metadata": {},
     "output_type": "execute_result"
    }
   ],
   "source": [
    "data"
   ]
  },
  {
   "cell_type": "code",
   "execution_count": 23,
   "metadata": {},
   "outputs": [],
   "source": [
    "from nltk.stem import PorterStemmer\n",
    "ps = PorterStemmer() \n",
    "\n",
    "data['tokenized_text'] = data[\"tokenized_text\"].apply(lambda x: [ps.stem(word) for word in x])"
   ]
  },
  {
   "cell_type": "code",
   "execution_count": 25,
   "metadata": {},
   "outputs": [],
   "source": [
    "data.to_csv(\"depression_tokenised_stemmed.csv\", index = False)"
   ]
  },
  {
   "cell_type": "code",
   "execution_count": null,
   "metadata": {},
   "outputs": [],
   "source": []
  }
 ],
 "metadata": {
  "kernelspec": {
   "display_name": "Python 3",
   "language": "python",
   "name": "python3"
  },
  "language_info": {
   "codemirror_mode": {
    "name": "ipython",
    "version": 3
   },
   "file_extension": ".py",
   "mimetype": "text/x-python",
   "name": "python",
   "nbconvert_exporter": "python",
   "pygments_lexer": "ipython3",
   "version": "3.6.9"
  }
 },
 "nbformat": 4,
 "nbformat_minor": 4
}
