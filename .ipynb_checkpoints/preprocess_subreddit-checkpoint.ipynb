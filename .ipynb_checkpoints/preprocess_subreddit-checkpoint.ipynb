{
 "cells": [
  {
   "cell_type": "code",
   "execution_count": 34,
   "metadata": {},
   "outputs": [],
   "source": [
    "import pandas as pd\n",
    "import nltk\n",
    "import re\n",
    "import matplotlib.pyplot as plt\n",
    "import seaborn as sns\n",
    "import numpy as np\n",
    "import emoji\n",
    "from collections import Counter"
   ]
  },
  {
   "cell_type": "code",
   "execution_count": 107,
   "metadata": {},
   "outputs": [],
   "source": [
    "# depression data\n",
    "#data = pd.read_csv('../depression.csv', lineterminator='\\n')\n",
    "# happy data\n",
    "happy = pd.read_csv('../happy.csv')\n",
    "# suicide data\n",
    "suicide = pd.read_csv('../suicide.csv')\n",
    "# casual data\n",
    "casual = pd.read_csv('../casual.csv', lineterminator='\\n')"
   ]
  },
  {
   "cell_type": "markdown",
   "metadata": {},
   "source": [
    "# Data inspection"
   ]
  },
  {
   "cell_type": "markdown",
   "metadata": {},
   "source": [
    "### Depressed data"
   ]
  },
  {
   "cell_type": "code",
   "execution_count": 3,
   "metadata": {},
   "outputs": [
    {
     "name": "stdout",
     "output_type": "stream",
     "text": [
      "<class 'pandas.core.frame.DataFrame'>\n",
      "RangeIndex: 957593 entries, 0 to 957592\n",
      "Data columns (total 2 columns):\n",
      " #   Column     Non-Null Count   Dtype \n",
      "---  ------     --------------   ----- \n",
      " 0   title      957589 non-null  object\n",
      " 1   self_text  851537 non-null  object\n",
      "dtypes: object(2)\n",
      "memory usage: 14.6+ MB\n"
     ]
    }
   ],
   "source": [
    "data.info()"
   ]
  },
  {
   "cell_type": "code",
   "execution_count": 95,
   "metadata": {},
   "outputs": [
    {
     "data": {
      "text/plain": [
       "title             4\n",
       "self_text    106056\n",
       "dtype: int64"
      ]
     },
     "execution_count": 95,
     "metadata": {},
     "output_type": "execute_result"
    }
   ],
   "source": [
    "data.isnull().sum()"
   ]
  },
  {
   "cell_type": "markdown",
   "metadata": {},
   "source": [
    "#### Remove all nans after being scraped from subreddit"
   ]
  },
  {
   "cell_type": "code",
   "execution_count": 96,
   "metadata": {},
   "outputs": [
    {
     "data": {
      "text/plain": [
       "title        0\n",
       "self_text    0\n",
       "dtype: int64"
      ]
     },
     "execution_count": 96,
     "metadata": {},
     "output_type": "execute_result"
    }
   ],
   "source": [
    "data.replace(np.nan, '', regex=True, inplace = True)\n",
    "data.isnull().sum()"
   ]
  },
  {
   "cell_type": "markdown",
   "metadata": {},
   "source": [
    "#### Append title and text together"
   ]
  },
  {
   "cell_type": "code",
   "execution_count": 14,
   "metadata": {},
   "outputs": [],
   "source": [
    "data['title'] = data['title'].astype('str')\n",
    "data['self_text'] = data['self_text'].astype('str')"
   ]
  },
  {
   "cell_type": "markdown",
   "metadata": {},
   "source": [
    "#### Check if there is the regular check-in post"
   ]
  },
  {
   "cell_type": "code",
   "execution_count": 97,
   "metadata": {},
   "outputs": [],
   "source": [
    "reminder_text = [\"Regular Check-In Post\", \"Regular Check-In Post. Plus, a reminder about the No-Activism Rule.\"]\n",
    "reminder_text = [i.lower() for i in reminder_text]\n",
    "data['count_regular_check'] = data['title'].apply(lambda x: search_word(x.lower(), reminder_text))"
   ]
  },
  {
   "cell_type": "code",
   "execution_count": 98,
   "metadata": {},
   "outputs": [
    {
     "data": {
      "text/html": [
       "<div>\n",
       "<style scoped>\n",
       "    .dataframe tbody tr th:only-of-type {\n",
       "        vertical-align: middle;\n",
       "    }\n",
       "\n",
       "    .dataframe tbody tr th {\n",
       "        vertical-align: top;\n",
       "    }\n",
       "\n",
       "    .dataframe thead th {\n",
       "        text-align: right;\n",
       "    }\n",
       "</style>\n",
       "<table border=\"1\" class=\"dataframe\">\n",
       "  <thead>\n",
       "    <tr style=\"text-align: right;\">\n",
       "      <th></th>\n",
       "      <th>title</th>\n",
       "      <th>self_text</th>\n",
       "      <th>count_regular_check</th>\n",
       "    </tr>\n",
       "  </thead>\n",
       "  <tbody>\n",
       "    <tr>\n",
       "      <th>167043</th>\n",
       "      <td>I'm doing a regular check-in post for goal kee...</td>\n",
       "      <td>[removed]</td>\n",
       "      <td>1</td>\n",
       "    </tr>\n",
       "    <tr>\n",
       "      <th>558691</th>\n",
       "      <td>Regular Check-In Post</td>\n",
       "      <td>Welcome to /r/depression's check-in post - a p...</td>\n",
       "      <td>1</td>\n",
       "    </tr>\n",
       "    <tr>\n",
       "      <th>654109</th>\n",
       "      <td>Regular Check-In Post</td>\n",
       "      <td>Welcome to /r/depression's check-in post - a p...</td>\n",
       "      <td>1</td>\n",
       "    </tr>\n",
       "    <tr>\n",
       "      <th>687307</th>\n",
       "      <td>The fact the \"Regular Check-In Post\" was over ...</td>\n",
       "      <td></td>\n",
       "      <td>1</td>\n",
       "    </tr>\n",
       "    <tr>\n",
       "      <th>742651</th>\n",
       "      <td>Regular Check-In Post</td>\n",
       "      <td>Welcome to /r/depression's check-in post - a p...</td>\n",
       "      <td>1</td>\n",
       "    </tr>\n",
       "    <tr>\n",
       "      <th>842974</th>\n",
       "      <td>Regular Check-In Post</td>\n",
       "      <td>Welcome to /r/depression's check-in post - a p...</td>\n",
       "      <td>1</td>\n",
       "    </tr>\n",
       "  </tbody>\n",
       "</table>\n",
       "</div>"
      ],
      "text/plain": [
       "                                                    title  \\\n",
       "167043  I'm doing a regular check-in post for goal kee...   \n",
       "558691                              Regular Check-In Post   \n",
       "654109                              Regular Check-In Post   \n",
       "687307  The fact the \"Regular Check-In Post\" was over ...   \n",
       "742651                              Regular Check-In Post   \n",
       "842974                              Regular Check-In Post   \n",
       "\n",
       "                                                self_text  count_regular_check  \n",
       "167043                                          [removed]                    1  \n",
       "558691  Welcome to /r/depression's check-in post - a p...                    1  \n",
       "654109  Welcome to /r/depression's check-in post - a p...                    1  \n",
       "687307                                                                       1  \n",
       "742651  Welcome to /r/depression's check-in post - a p...                    1  \n",
       "842974  Welcome to /r/depression's check-in post - a p...                    1  "
      ]
     },
     "execution_count": 98,
     "metadata": {},
     "output_type": "execute_result"
    }
   ],
   "source": [
    "data[data['count_regular_check']==1]"
   ]
  },
  {
   "cell_type": "code",
   "execution_count": 99,
   "metadata": {},
   "outputs": [
    {
     "name": "stdout",
     "output_type": "stream",
     "text": [
      "There are 6 post of regular check-in\n"
     ]
    }
   ],
   "source": [
    "len_post = data[data['count_regular_check']==1].shape[0]\n",
    "print(f'There are {len_post} post of regular check-in')"
   ]
  },
  {
   "cell_type": "code",
   "execution_count": 100,
   "metadata": {},
   "outputs": [],
   "source": [
    "data = data.loc[data['count_regular_check']==0]"
   ]
  },
  {
   "cell_type": "code",
   "execution_count": 101,
   "metadata": {},
   "outputs": [
    {
     "data": {
      "text/plain": [
       "(957587, 3)"
      ]
     },
     "execution_count": 101,
     "metadata": {},
     "output_type": "execute_result"
    }
   ],
   "source": [
    "data.shape"
   ]
  },
  {
   "cell_type": "markdown",
   "metadata": {},
   "source": [
    "#### Append the title and text together"
   ]
  },
  {
   "cell_type": "code",
   "execution_count": 102,
   "metadata": {},
   "outputs": [],
   "source": [
    "data['texts'] = data['title']+\" \"+data['self_text']"
   ]
  },
  {
   "cell_type": "code",
   "execution_count": 103,
   "metadata": {},
   "outputs": [],
   "source": [
    "data.drop(labels=['title', 'self_text'], axis=1, inplace = True)"
   ]
  },
  {
   "cell_type": "code",
   "execution_count": 104,
   "metadata": {},
   "outputs": [
    {
     "data": {
      "text/html": [
       "<div>\n",
       "<style scoped>\n",
       "    .dataframe tbody tr th:only-of-type {\n",
       "        vertical-align: middle;\n",
       "    }\n",
       "\n",
       "    .dataframe tbody tr th {\n",
       "        vertical-align: top;\n",
       "    }\n",
       "\n",
       "    .dataframe thead th {\n",
       "        text-align: right;\n",
       "    }\n",
       "</style>\n",
       "<table border=\"1\" class=\"dataframe\">\n",
       "  <thead>\n",
       "    <tr style=\"text-align: right;\">\n",
       "      <th></th>\n",
       "      <th>count_regular_check</th>\n",
       "      <th>texts</th>\n",
       "    </tr>\n",
       "  </thead>\n",
       "  <tbody>\n",
       "    <tr>\n",
       "      <th>0</th>\n",
       "      <td>0</td>\n",
       "      <td>So many kinds of therapists...what to choose? ...</td>\n",
       "    </tr>\n",
       "    <tr>\n",
       "      <th>1</th>\n",
       "      <td>0</td>\n",
       "      <td>i'm drawing a comic thing ---</td>\n",
       "    </tr>\n",
       "    <tr>\n",
       "      <th>2</th>\n",
       "      <td>0</td>\n",
       "      <td>Tired of rejection.. I'm 20 [M] and never had ...</td>\n",
       "    </tr>\n",
       "    <tr>\n",
       "      <th>3</th>\n",
       "      <td>0</td>\n",
       "      <td>Everyone thinks I'm fine.. but I'm no where cl...</td>\n",
       "    </tr>\n",
       "    <tr>\n",
       "      <th>4</th>\n",
       "      <td>0</td>\n",
       "      <td>honesty I drink most nights because I am unhap...</td>\n",
       "    </tr>\n",
       "  </tbody>\n",
       "</table>\n",
       "</div>"
      ],
      "text/plain": [
       "   count_regular_check                                              texts\n",
       "0                    0  So many kinds of therapists...what to choose? ...\n",
       "1                    0                      i'm drawing a comic thing ---\n",
       "2                    0  Tired of rejection.. I'm 20 [M] and never had ...\n",
       "3                    0  Everyone thinks I'm fine.. but I'm no where cl...\n",
       "4                    0  honesty I drink most nights because I am unhap..."
      ]
     },
     "execution_count": 104,
     "metadata": {},
     "output_type": "execute_result"
    }
   ],
   "source": [
    "data.head()"
   ]
  },
  {
   "cell_type": "markdown",
   "metadata": {},
   "source": [
    "#### Find specific occurences of depressed words"
   ]
  },
  {
   "cell_type": "code",
   "execution_count": 105,
   "metadata": {},
   "outputs": [],
   "source": [
    "words_of_interest = ['depressed', 'depression', 'stress', 'help', \n",
    "                     'suicide', 'devastated', 'frustrated',\n",
    "                    \"upsetting\", \"distressing\", \"painful\", \"heartbreaking\", \n",
    "                     \"dispiriting\", \"disheartening\", \"discouraging\", \"demoralizing\"]"
   ]
  },
  {
   "cell_type": "code",
   "execution_count": 106,
   "metadata": {},
   "outputs": [],
   "source": [
    "def search_word(data, words):\n",
    "    for each_word in words:\n",
    "        if re.search(each_word, data):\n",
    "            return 1\n",
    "    return 0"
   ]
  },
  {
   "cell_type": "code",
   "execution_count": 107,
   "metadata": {},
   "outputs": [],
   "source": [
    "data['count'] = data['texts'].apply(lambda x: search_word(x, words_of_interest))"
   ]
  },
  {
   "cell_type": "code",
   "execution_count": 108,
   "metadata": {},
   "outputs": [
    {
     "name": "stdout",
     "output_type": "stream",
     "text": [
      "Number of posts that contain depressed words: 514864\n"
     ]
    }
   ],
   "source": [
    "tot = data['count'].sum()\n",
    "print(f'Number of posts that contain depressed words: {tot}')"
   ]
  },
  {
   "cell_type": "code",
   "execution_count": 109,
   "metadata": {},
   "outputs": [
    {
     "data": {
      "text/html": [
       "<div>\n",
       "<style scoped>\n",
       "    .dataframe tbody tr th:only-of-type {\n",
       "        vertical-align: middle;\n",
       "    }\n",
       "\n",
       "    .dataframe tbody tr th {\n",
       "        vertical-align: top;\n",
       "    }\n",
       "\n",
       "    .dataframe thead th {\n",
       "        text-align: right;\n",
       "    }\n",
       "</style>\n",
       "<table border=\"1\" class=\"dataframe\">\n",
       "  <thead>\n",
       "    <tr style=\"text-align: right;\">\n",
       "      <th></th>\n",
       "      <th>count_regular_check</th>\n",
       "      <th>texts</th>\n",
       "      <th>count</th>\n",
       "    </tr>\n",
       "  </thead>\n",
       "  <tbody>\n",
       "    <tr>\n",
       "      <th>1</th>\n",
       "      <td>0</td>\n",
       "      <td>i'm drawing a comic thing ---</td>\n",
       "      <td>0</td>\n",
       "    </tr>\n",
       "    <tr>\n",
       "      <th>2</th>\n",
       "      <td>0</td>\n",
       "      <td>Tired of rejection.. I'm 20 [M] and never had ...</td>\n",
       "      <td>0</td>\n",
       "    </tr>\n",
       "    <tr>\n",
       "      <th>4</th>\n",
       "      <td>0</td>\n",
       "      <td>honesty I drink most nights because I am unhap...</td>\n",
       "      <td>0</td>\n",
       "    </tr>\n",
       "    <tr>\n",
       "      <th>10</th>\n",
       "      <td>0</td>\n",
       "      <td>I hate taking medication I hate taking the med...</td>\n",
       "      <td>0</td>\n",
       "    </tr>\n",
       "    <tr>\n",
       "      <th>15</th>\n",
       "      <td>0</td>\n",
       "      <td>Wanna talk?</td>\n",
       "      <td>0</td>\n",
       "    </tr>\n",
       "  </tbody>\n",
       "</table>\n",
       "</div>"
      ],
      "text/plain": [
       "    count_regular_check                                              texts  \\\n",
       "1                     0                      i'm drawing a comic thing ---   \n",
       "2                     0  Tired of rejection.. I'm 20 [M] and never had ...   \n",
       "4                     0  honesty I drink most nights because I am unhap...   \n",
       "10                    0  I hate taking medication I hate taking the med...   \n",
       "15                    0                                       Wanna talk?    \n",
       "\n",
       "    count  \n",
       "1       0  \n",
       "2       0  \n",
       "4       0  \n",
       "10      0  \n",
       "15      0  "
      ]
     },
     "execution_count": 109,
     "metadata": {},
     "output_type": "execute_result"
    }
   ],
   "source": [
    "data[data['count']==0].head()"
   ]
  },
  {
   "cell_type": "markdown",
   "metadata": {},
   "source": [
    "#### Find ambiguous posts"
   ]
  },
  {
   "cell_type": "code",
   "execution_count": 110,
   "metadata": {},
   "outputs": [],
   "source": [
    "data['len_text'] = data['texts'].apply(lambda x: len(x.split()))"
   ]
  },
  {
   "cell_type": "code",
   "execution_count": 111,
   "metadata": {},
   "outputs": [],
   "source": [
    "no_depressed_words = data[data['count']==0]"
   ]
  },
  {
   "cell_type": "code",
   "execution_count": 112,
   "metadata": {},
   "outputs": [
    {
     "data": {
      "image/png": "[encoded data removed]",
      "text/plain": [
       "<Figure size 576x432 with 1 Axes>"
      ]
     },
     "metadata": {
      "needs_background": "light"
     },
     "output_type": "display_data"
    }
   ],
   "source": [
    "plt.figure(figsize=(8, 6))\n",
    "sns.distplot(np.log(no_depressed_words['len_text']))\n",
    "plt.title('Distribution of len sentences in no depressed posts words')\n",
    "plt.xlabel('log normalised length of text')\n",
    "plt.show()"
   ]
  },
  {
   "cell_type": "code",
   "execution_count": 115,
   "metadata": {},
   "outputs": [
    {
     "data": {
      "text/html": [
       "<div>\n",
       "<style scoped>\n",
       "    .dataframe tbody tr th:only-of-type {\n",
       "        vertical-align: middle;\n",
       "    }\n",
       "\n",
       "    .dataframe tbody tr th {\n",
       "        vertical-align: top;\n",
       "    }\n",
       "\n",
       "    .dataframe thead th {\n",
       "        text-align: right;\n",
       "    }\n",
       "</style>\n",
       "<table border=\"1\" class=\"dataframe\">\n",
       "  <thead>\n",
       "    <tr style=\"text-align: right;\">\n",
       "      <th></th>\n",
       "      <th>count_regular_check</th>\n",
       "      <th>texts</th>\n",
       "      <th>count</th>\n",
       "      <th>len_text</th>\n",
       "    </tr>\n",
       "  </thead>\n",
       "  <tbody>\n",
       "    <tr>\n",
       "      <th>1</th>\n",
       "      <td>0</td>\n",
       "      <td>i'm drawing a comic thing ---</td>\n",
       "      <td>0</td>\n",
       "      <td>6</td>\n",
       "    </tr>\n",
       "    <tr>\n",
       "      <th>15</th>\n",
       "      <td>0</td>\n",
       "      <td>Wanna talk?</td>\n",
       "      <td>0</td>\n",
       "      <td>2</td>\n",
       "    </tr>\n",
       "    <tr>\n",
       "      <th>36</th>\n",
       "      <td>0</td>\n",
       "      <td>Why? http://25.media.tumblr.com/tumblr_llseziv...</td>\n",
       "      <td>0</td>\n",
       "      <td>2</td>\n",
       "    </tr>\n",
       "    <tr>\n",
       "      <th>48</th>\n",
       "      <td>0</td>\n",
       "      <td>Self portrait. The links in my comments..</td>\n",
       "      <td>0</td>\n",
       "      <td>7</td>\n",
       "    </tr>\n",
       "    <tr>\n",
       "      <th>136</th>\n",
       "      <td>0</td>\n",
       "      <td>Feeling a bit lonely, want to chat</td>\n",
       "      <td>0</td>\n",
       "      <td>7</td>\n",
       "    </tr>\n",
       "    <tr>\n",
       "      <th>166</th>\n",
       "      <td>0</td>\n",
       "      <td>A \"creative outlet\" http://imgur.com/a/zVtaJ</td>\n",
       "      <td>0</td>\n",
       "      <td>4</td>\n",
       "    </tr>\n",
       "    <tr>\n",
       "      <th>174</th>\n",
       "      <td>0</td>\n",
       "      <td>Sadness can feel good too...</td>\n",
       "      <td>0</td>\n",
       "      <td>5</td>\n",
       "    </tr>\n",
       "    <tr>\n",
       "      <th>179</th>\n",
       "      <td>0</td>\n",
       "      <td>how i feel every day (xpost from r/funny)</td>\n",
       "      <td>0</td>\n",
       "      <td>8</td>\n",
       "    </tr>\n",
       "    <tr>\n",
       "      <th>206</th>\n",
       "      <td>0</td>\n",
       "      <td>The power of controlling your own emotions..</td>\n",
       "      <td>0</td>\n",
       "      <td>7</td>\n",
       "    </tr>\n",
       "    <tr>\n",
       "      <th>300</th>\n",
       "      <td>0</td>\n",
       "      <td>I fucking hate my life ugh</td>\n",
       "      <td>0</td>\n",
       "      <td>6</td>\n",
       "    </tr>\n",
       "    <tr>\n",
       "      <th>303</th>\n",
       "      <td>0</td>\n",
       "      <td>Empty</td>\n",
       "      <td>0</td>\n",
       "      <td>1</td>\n",
       "    </tr>\n",
       "    <tr>\n",
       "      <th>349</th>\n",
       "      <td>0</td>\n",
       "      <td>Hey guys.</td>\n",
       "      <td>0</td>\n",
       "      <td>2</td>\n",
       "    </tr>\n",
       "    <tr>\n",
       "      <th>374</th>\n",
       "      <td>0</td>\n",
       "      <td>Help. Anyone have time to talk?</td>\n",
       "      <td>0</td>\n",
       "      <td>6</td>\n",
       "    </tr>\n",
       "    <tr>\n",
       "      <th>565</th>\n",
       "      <td>0</td>\n",
       "      <td>Take What you Need I took motivation.</td>\n",
       "      <td>0</td>\n",
       "      <td>7</td>\n",
       "    </tr>\n",
       "    <tr>\n",
       "      <th>573</th>\n",
       "      <td>0</td>\n",
       "      <td>How to easily change your mood</td>\n",
       "      <td>0</td>\n",
       "      <td>6</td>\n",
       "    </tr>\n",
       "    <tr>\n",
       "      <th>630</th>\n",
       "      <td>0</td>\n",
       "      <td>Winter sorrow</td>\n",
       "      <td>0</td>\n",
       "      <td>2</td>\n",
       "    </tr>\n",
       "    <tr>\n",
       "      <th>702</th>\n",
       "      <td>0</td>\n",
       "      <td>Am I being overly sensitive?</td>\n",
       "      <td>0</td>\n",
       "      <td>5</td>\n",
       "    </tr>\n",
       "    <tr>\n",
       "      <th>728</th>\n",
       "      <td>0</td>\n",
       "      <td>Anyone want to chat? With cams maybe?</td>\n",
       "      <td>0</td>\n",
       "      <td>7</td>\n",
       "    </tr>\n",
       "    <tr>\n",
       "      <th>729</th>\n",
       "      <td>0</td>\n",
       "      <td>Does anyone want to talk? I'm feeling weird.</td>\n",
       "      <td>0</td>\n",
       "      <td>8</td>\n",
       "    </tr>\n",
       "    <tr>\n",
       "      <th>832</th>\n",
       "      <td>0</td>\n",
       "      <td>URGENT POST.PLEASE READ.</td>\n",
       "      <td>0</td>\n",
       "      <td>3</td>\n",
       "    </tr>\n",
       "  </tbody>\n",
       "</table>\n",
       "</div>"
      ],
      "text/plain": [
       "     count_regular_check                                              texts  \\\n",
       "1                      0                      i'm drawing a comic thing ---   \n",
       "15                     0                                       Wanna talk?    \n",
       "36                     0  Why? http://25.media.tumblr.com/tumblr_llseziv...   \n",
       "48                     0          Self portrait. The links in my comments..   \n",
       "136                    0                Feeling a bit lonely, want to chat    \n",
       "166                    0       A \"creative outlet\" http://imgur.com/a/zVtaJ   \n",
       "174                    0                      Sadness can feel good too...    \n",
       "179                    0         how i feel every day (xpost from r/funny)    \n",
       "206                    0      The power of controlling your own emotions..    \n",
       "300                    0                         I fucking hate my life ugh   \n",
       "303                    0                                             Empty    \n",
       "349                    0                                         Hey guys.    \n",
       "374                    0                   Help. Anyone have time to talk?    \n",
       "565                    0              Take What you Need I took motivation.   \n",
       "573                    0                    How to easily change your mood    \n",
       "630                    0                                     Winter sorrow    \n",
       "702                    0                     Am I being overly sensitive?     \n",
       "728                    0             Anyone want to chat? With cams maybe?    \n",
       "729                    0       Does anyone want to talk? I'm feeling weird.   \n",
       "832                    0                          URGENT POST.PLEASE READ.    \n",
       "\n",
       "     count  len_text  \n",
       "1        0         6  \n",
       "15       0         2  \n",
       "36       0         2  \n",
       "48       0         7  \n",
       "136      0         7  \n",
       "166      0         4  \n",
       "174      0         5  \n",
       "179      0         8  \n",
       "206      0         7  \n",
       "300      0         6  \n",
       "303      0         1  \n",
       "349      0         2  \n",
       "374      0         6  \n",
       "565      0         7  \n",
       "573      0         6  \n",
       "630      0         2  \n",
       "702      0         5  \n",
       "728      0         7  \n",
       "729      0         8  \n",
       "832      0         3  "
      ]
     },
     "execution_count": 115,
     "metadata": {},
     "output_type": "execute_result"
    }
   ],
   "source": [
    "no_depressed_words[no_depressed_words['len_text']<=8].head(20)"
   ]
  },
  {
   "cell_type": "markdown",
   "metadata": {},
   "source": [
    "It seems that sentences with length below 8 may be a bit ambiguous; thus, it is best to discard this sentences. Based on google, the average words for a proper sentences are 15."
   ]
  },
  {
   "cell_type": "code",
   "execution_count": 116,
   "metadata": {},
   "outputs": [],
   "source": [
    "remove_this_index = no_depressed_words[no_depressed_words['len_text']<15].index"
   ]
  },
  {
   "cell_type": "code",
   "execution_count": 117,
   "metadata": {},
   "outputs": [],
   "source": [
    "retain_index = set(data.index)-set(remove_this_index)\n",
    "data = data.loc[retain_index, :]"
   ]
  },
  {
   "cell_type": "code",
   "execution_count": 119,
   "metadata": {},
   "outputs": [
    {
     "data": {
      "text/plain": [
       "(840632, 4)"
      ]
     },
     "execution_count": 119,
     "metadata": {},
     "output_type": "execute_result"
    }
   ],
   "source": [
    "data.shape"
   ]
  },
  {
   "cell_type": "markdown",
   "metadata": {},
   "source": [
    "### Happy data"
   ]
  },
  {
   "cell_type": "code",
   "execution_count": 108,
   "metadata": {},
   "outputs": [],
   "source": [
    "def early_preprocess(data):\n",
    "    data.replace(np.nan, '', regex=True, inplace = True)\n",
    "    data['title'] = data['title'].astype('str')\n",
    "    data['self_text'] = data['self_text'].astype('str')\n",
    "    data['texts'] = data['title']+\" \"+data['self_text']\n",
    "    data.drop(labels=['title', 'self_text'], axis=1, inplace = True)\n",
    "    return data"
   ]
  },
  {
   "cell_type": "code",
   "execution_count": 109,
   "metadata": {},
   "outputs": [],
   "source": [
    "happy = early_preprocess(happy)"
   ]
  },
  {
   "cell_type": "code",
   "execution_count": 8,
   "metadata": {},
   "outputs": [],
   "source": [
    "happy['len_text'] = happy['texts'].apply(lambda x: len(x.split()))"
   ]
  },
  {
   "cell_type": "code",
   "execution_count": 9,
   "metadata": {},
   "outputs": [
    {
     "name": "stderr",
     "output_type": "stream",
     "text": [
      "/opt/miniconda3/lib/python3.8/site-packages/seaborn/distributions.py:2551: FutureWarning: `distplot` is a deprecated function and will be removed in a future version. Please adapt your code to use either `displot` (a figure-level function with similar flexibility) or `histplot` (an axes-level function for histograms).\n",
      "  warnings.warn(msg, FutureWarning)\n"
     ]
    },
    {
     "data": {
      "image/png": "[encoded data removed]",
      "text/plain": [
       "<Figure size 576x432 with 1 Axes>"
      ]
     },
     "metadata": {
      "needs_background": "light"
     },
     "output_type": "display_data"
    }
   ],
   "source": [
    "plt.figure(figsize=(8, 6))\n",
    "sns.distplot(np.log(happy['len_text']))\n",
    "plt.title('Distribution of len sentences in happy posts words')\n",
    "plt.xlabel('log normalised length of text')\n",
    "plt.show()"
   ]
  },
  {
   "cell_type": "code",
   "execution_count": 32,
   "metadata": {},
   "outputs": [
    {
     "name": "stdout",
     "output_type": "stream",
     "text": [
      "The median post length for casual: 19.0\n"
     ]
    }
   ],
   "source": [
    "print('The median post length for casual: '+str(happy['len_text'].median()))"
   ]
  },
  {
   "cell_type": "markdown",
   "metadata": {},
   "source": [
    "### Casual data"
   ]
  },
  {
   "cell_type": "code",
   "execution_count": 86,
   "metadata": {},
   "outputs": [],
   "source": [
    "casual = early_preprocess(casual)\n",
    "casual['len_text'] = casual['texts'].apply(lambda x: len(x.split()))"
   ]
  },
  {
   "cell_type": "code",
   "execution_count": 23,
   "metadata": {},
   "outputs": [
    {
     "name": "stderr",
     "output_type": "stream",
     "text": [
      "/opt/miniconda3/lib/python3.8/site-packages/seaborn/distributions.py:2551: FutureWarning: `distplot` is a deprecated function and will be removed in a future version. Please adapt your code to use either `displot` (a figure-level function with similar flexibility) or `histplot` (an axes-level function for histograms).\n",
      "  warnings.warn(msg, FutureWarning)\n"
     ]
    },
    {
     "data": {
      "image/png": "[encoded data removed]",
      "text/plain": [
       "<Figure size 576x432 with 1 Axes>"
      ]
     },
     "metadata": {
      "needs_background": "light"
     },
     "output_type": "display_data"
    }
   ],
   "source": [
    "plt.figure(figsize=(8, 6))\n",
    "sns.distplot(np.log(casual['len_text']))\n",
    "plt.title('Distribution of len sentences in casual posts words')\n",
    "plt.xlabel('log normalised length of text')\n",
    "plt.show()"
   ]
  },
  {
   "cell_type": "code",
   "execution_count": 31,
   "metadata": {},
   "outputs": [
    {
     "name": "stdout",
     "output_type": "stream",
     "text": [
      "The median post length for casual: 51.0\n"
     ]
    }
   ],
   "source": [
    "print('The median post length for casual: '+str(casual['len_text'].median()))"
   ]
  },
  {
   "cell_type": "markdown",
   "metadata": {},
   "source": [
    "### Suicide data"
   ]
  },
  {
   "cell_type": "code",
   "execution_count": 87,
   "metadata": {},
   "outputs": [],
   "source": [
    "suicide = early_preprocess(suicide)\n",
    "suicide['len_text'] = suicide['texts'].apply(lambda x: len(x.split()))"
   ]
  },
  {
   "cell_type": "code",
   "execution_count": 25,
   "metadata": {},
   "outputs": [
    {
     "name": "stderr",
     "output_type": "stream",
     "text": [
      "/opt/miniconda3/lib/python3.8/site-packages/seaborn/distributions.py:2551: FutureWarning: `distplot` is a deprecated function and will be removed in a future version. Please adapt your code to use either `displot` (a figure-level function with similar flexibility) or `histplot` (an axes-level function for histograms).\n",
      "  warnings.warn(msg, FutureWarning)\n"
     ]
    },
    {
     "data": {
      "image/png": "[encoded data removed]",
      "text/plain": [
       "<Figure size 576x432 with 1 Axes>"
      ]
     },
     "metadata": {
      "needs_background": "light"
     },
     "output_type": "display_data"
    }
   ],
   "source": [
    "plt.figure(figsize=(8, 6))\n",
    "sns.distplot(np.log(suicide['len_text']))\n",
    "plt.title('Distribution of len sentences in suicide posts words')\n",
    "plt.xlabel('log normalised length of text')\n",
    "plt.show()"
   ]
  },
  {
   "cell_type": "code",
   "execution_count": 30,
   "metadata": {},
   "outputs": [
    {
     "name": "stdout",
     "output_type": "stream",
     "text": [
      "The median post length for suicide: 101.0\n"
     ]
    }
   ],
   "source": [
    "print('The median post length for suicide: '+str(suicide['len_text'].median()))"
   ]
  },
  {
   "cell_type": "code",
   "execution_count": 42,
   "metadata": {},
   "outputs": [],
   "source": [
    "lst = [happy, suicide, casual]\n",
    "for i in lst:\n",
    "    i.drop(labels=['len_text'], axis=1, inplace=True)"
   ]
  },
  {
   "cell_type": "markdown",
   "metadata": {},
   "source": [
    "## Tokenize and Clean"
   ]
  },
  {
   "cell_type": "code",
   "execution_count": 48,
   "metadata": {},
   "outputs": [
    {
     "name": "stderr",
     "output_type": "stream",
     "text": [
      "[nltk_data] Downloading package punkt to\n",
      "[nltk_data]     /home/student.unimelb.edu.au/nyoewono/nltk_data...\n",
      "[nltk_data]   Package punkt is already up-to-date!\n"
     ]
    },
    {
     "data": {
      "text/plain": [
       "True"
      ]
     },
     "execution_count": 48,
     "metadata": {},
     "output_type": "execute_result"
    }
   ],
   "source": [
    "from nltk.tokenize import word_tokenize\n",
    "import nltk\n",
    "nltk.download('punkt')"
   ]
  },
  {
   "cell_type": "code",
   "execution_count": 100,
   "metadata": {},
   "outputs": [],
   "source": [
    "def remove_spam(data):\n",
    "    dic_counter = Counter(data)\n",
    "    if len(dic_counter)<=10 and len(data)>100:\n",
    "        return 0\n",
    "    return 1\n",
    "\n",
    "def translate_emoji(text):\n",
    "    return emoji.demojize(text, delimiters=(\"\", \"\")) \n",
    "\n",
    "def tag_words(text):\n",
    "    text = nltk.word_tokenize(text.lower())\n",
    "    res = nltk.pos_tag(text)\n",
    "    res = [\"_\".join(i) for i in res]\n",
    "    res = \" \".join(res)\n",
    "    return res"
   ]
  },
  {
   "cell_type": "code",
   "execution_count": 52,
   "metadata": {},
   "outputs": [],
   "source": [
    "stop_words = [ 'what', 'which', 'who', 'whom', 'this', 'that', \"that'll\",'these', 'those', 'am', 'is', 'was', 'were',\n",
    " 'be','been', 'being', 'have', 'has', 'had', 'having', 'do', 'does', 'did', 'doing', 'a', 'an', 'the', 'and', 'but',\n",
    " 'if', 'or', 'because', 'as', 'until', 'while', 'of', 'at', 'by', 'for', 'with', 'about', 'against', 'between', 'into',\n",
    " 'through', 'during', 'before','after', 'above', 'below', 'to', 'from', 'up', 'down', 'in', 'out', 'on','off', 'over',\n",
    " 'under', 'again', 'further', 'then', 'once', 'here', 'there', 'when', 'where', 'why', 'how', 'all', 'any', 'both', 'each',\n",
    " 'few', 'more', 'most', 'other', 'such', 'no', 'nor', 'not', 'only', 'own', 'same', 'so', 'than', 'too', 'very', 's', 't', 'can',\n",
    " 'will', 'just', 'don', \"don't\", 'should', \"should've\", 'now', 'd', 'll', 'm', 'o', 're', 've', 'y', 'ain', 'aren', \"aren't\",\n",
    " 'couldn', \"couldn't\", 'didn', \"didn't\", 'doesn', \"doesn't\", 'hadn', \"hadn't\", 'hasn', \"hasn't\", 'haven', \"haven't\", 'isn',\n",
    "  \"isn't\", 'ma', 'mightn',\"mightn't\", 'mustn', \"mustn't\", 'needn', \"needn't\", 'shan', \"shan't\", 'shouldn', \"shouldn't\", 'wasn',\n",
    " \"wasn't\", 'weren', \"weren't\", 'won',\"won't\", 'wouldn',\"wouldn't\", \"http\"]"
   ]
  },
  {
   "cell_type": "code",
   "execution_count": 114,
   "metadata": {},
   "outputs": [],
   "source": [
    "def fin_preprocessing(data, name):\n",
    "    \n",
    "    # translate emoji\n",
    "    data['texts'] = data['texts'].apply(lambda x: translate_emoji(x))\n",
    "    print('Emoji done\\n')\n",
    "    # tokenized text\n",
    "    data['tokenized_text'] = data['texts']\n",
    "    data['tokenized_text'] = data[\"tokenized_text\"].apply(lambda x: x.lower()).apply(word_tokenize)\n",
    "    print('Tokenized done\\n')\n",
    "    # remove stop words\n",
    "    data['tokenized_text'] = data[\"tokenized_text\"].apply(lambda x: [word for word in x if word not in stop_words])\n",
    "    print('Stop words removed\\n')\n",
    "    # remove non alpha words\n",
    "    data['tokenized_text'] = data[\"tokenized_text\"].apply(lambda x: [word for word in x if word.isalpha()])\n",
    "    print('Non alpha removed\\n')\n",
    "    # remove spam\n",
    "    data['spam'] = data['tokenized_text'].apply(lambda x: remove_spam(x))\n",
    "    index_spam = data[data['spam']==0].index\n",
    "    data.loc[list(index_spam), 'tokenized_text'] = data.loc[list(index_spam), \n",
    "                                                            'tokenized_text'].apply(lambda x: list(set(x)))\n",
    "    print('Spam removed\\n')\n",
    "    \n",
    "    # turn the tokenized text back to string\n",
    "    data['tokenized_text'] = data['tokenized_text'].apply(lambda x: \" \".join(x))\n",
    "    print('Done joined\\n')\n",
    "    \n",
    "    # feature engineer pos tag for later use\n",
    "    data['tag_text'] = data['texts'].apply(lambda x: tag_words(x))\n",
    "    data.drop(labels=['spam'], axis=1, inplace = True)\n",
    "    print('Tagged text\\n')\n",
    "    \n",
    "    # save data in pickle format\n",
    "    data.reset_index(inplace = True)\n",
    "    data.drop(labels=['index'], axis=1, inplace = True)\n",
    "    data.to_csv(f\"../{name}_tokenized.csv\", index = False)\n",
    "    "
   ]
  },
  {
   "cell_type": "code",
   "execution_count": 111,
   "metadata": {},
   "outputs": [],
   "source": [
    "happy = fin_preprocessing(happy, 'happy')"
   ]
  },
  {
   "cell_type": "code",
   "execution_count": 112,
   "metadata": {},
   "outputs": [],
   "source": [
    "happy = pd.read_csv('../happy_tokenized.csv')"
   ]
  },
  {
   "cell_type": "code",
   "execution_count": 113,
   "metadata": {},
   "outputs": [
    {
     "data": {
      "text/plain": [
       "'it_PRP was_VBD rainy_JJ today_NN ._. wished_VBN i_NN could_MD be_VB at_IN the_DT lake_NN doing_VBG this_DT ..._:'"
      ]
     },
     "execution_count": 113,
     "metadata": {},
     "output_type": "execute_result"
    }
   ],
   "source": [
    "happy['tag_text'][0]"
   ]
  },
  {
   "cell_type": "code",
   "execution_count": 115,
   "metadata": {},
   "outputs": [
    {
     "name": "stdout",
     "output_type": "stream",
     "text": [
      "Emoji done\n",
      "\n",
      "Tokenized done\n",
      "\n",
      "Stop words removed\n",
      "\n",
      "Non alpha removed\n",
      "\n",
      "Spam removed\n",
      "\n",
      "Done joined\n",
      "\n",
      "Tagged text\n",
      "\n",
      "CPU times: user 1h 59min 46s, sys: 14 s, total: 2h\n",
      "Wall time: 2h 13s\n"
     ]
    }
   ],
   "source": [
    "%%time\n",
    "lst_df = [(suicide, 'suicide')]\n",
    "for each_df in lst_df:\n",
    "    fin_preprocessing(each_df[0], each_df[-1])"
   ]
  },
  {
   "cell_type": "code",
   "execution_count": 116,
   "metadata": {},
   "outputs": [
    {
     "data": {
      "text/html": [
       "<div>\n",
       "<style scoped>\n",
       "    .dataframe tbody tr th:only-of-type {\n",
       "        vertical-align: middle;\n",
       "    }\n",
       "\n",
       "    .dataframe tbody tr th {\n",
       "        vertical-align: top;\n",
       "    }\n",
       "\n",
       "    .dataframe thead th {\n",
       "        text-align: right;\n",
       "    }\n",
       "</style>\n",
       "<table border=\"1\" class=\"dataframe\">\n",
       "  <thead>\n",
       "    <tr style=\"text-align: right;\">\n",
       "      <th></th>\n",
       "      <th>texts</th>\n",
       "      <th>tokenized_text</th>\n",
       "      <th>tag_text</th>\n",
       "    </tr>\n",
       "  </thead>\n",
       "  <tbody>\n",
       "    <tr>\n",
       "      <th>0</th>\n",
       "      <td>A poem I found that nearly perfectly describes...</td>\n",
       "      <td>poem i found nearly perfectly describes way i ...</td>\n",
       "      <td>a_DT poem_NN i_NN found_VBD that_IN nearly_RB ...</td>\n",
       "    </tr>\n",
       "    <tr>\n",
       "      <th>1</th>\n",
       "      <td>What holds me back anymore? I've been lonely a...</td>\n",
       "      <td>holds me back anymore i lonely miserable ten y...</td>\n",
       "      <td>what_WP holds_VBZ me_PRP back_RP anymore_RB ?_...</td>\n",
       "    </tr>\n",
       "    <tr>\n",
       "      <th>2</th>\n",
       "      <td>I’m 17, I want to kill myself, I’m being bulli...</td>\n",
       "      <td>i i want kill myself i bullied i sexually abus...</td>\n",
       "      <td>i_NN ’_VBP m_NN 17_CD ,_, i_NN want_VBP to_TO ...</td>\n",
       "    </tr>\n",
       "    <tr>\n",
       "      <th>3</th>\n",
       "      <td>I love my girlfriend, but I don't know how to ...</td>\n",
       "      <td>i love my girlfriend i know show it she convin...</td>\n",
       "      <td>i_NN love_VBP my_PRP$ girlfriend_NN ,_, but_CC...</td>\n",
       "    </tr>\n",
       "    <tr>\n",
       "      <th>4</th>\n",
       "      <td>I’m 17, I want to kill myself, I’m being bulli...</td>\n",
       "      <td>i i want kill myself i bullied i sexually abus...</td>\n",
       "      <td>i_NN ’_VBP m_NN 17_CD ,_, i_NN want_VBP to_TO ...</td>\n",
       "    </tr>\n",
       "  </tbody>\n",
       "</table>\n",
       "</div>"
      ],
      "text/plain": [
       "                                               texts  \\\n",
       "0  A poem I found that nearly perfectly describes...   \n",
       "1  What holds me back anymore? I've been lonely a...   \n",
       "2  I’m 17, I want to kill myself, I’m being bulli...   \n",
       "3  I love my girlfriend, but I don't know how to ...   \n",
       "4  I’m 17, I want to kill myself, I’m being bulli...   \n",
       "\n",
       "                                      tokenized_text  \\\n",
       "0  poem i found nearly perfectly describes way i ...   \n",
       "1  holds me back anymore i lonely miserable ten y...   \n",
       "2  i i want kill myself i bullied i sexually abus...   \n",
       "3  i love my girlfriend i know show it she convin...   \n",
       "4  i i want kill myself i bullied i sexually abus...   \n",
       "\n",
       "                                            tag_text  \n",
       "0  a_DT poem_NN i_NN found_VBD that_IN nearly_RB ...  \n",
       "1  what_WP holds_VBZ me_PRP back_RP anymore_RB ?_...  \n",
       "2  i_NN ’_VBP m_NN 17_CD ,_, i_NN want_VBP to_TO ...  \n",
       "3  i_NN love_VBP my_PRP$ girlfriend_NN ,_, but_CC...  \n",
       "4  i_NN ’_VBP m_NN 17_CD ,_, i_NN want_VBP to_TO ...  "
      ]
     },
     "execution_count": 116,
     "metadata": {},
     "output_type": "execute_result"
    }
   ],
   "source": [
    "suicide_new = pd.read_csv(\"../suicide_tokenized.csv\")\n",
    "suicide_new.head()"
   ]
  },
  {
   "cell_type": "code",
   "execution_count": 117,
   "metadata": {},
   "outputs": [
    {
     "data": {
      "text/html": [
       "<div>\n",
       "<style scoped>\n",
       "    .dataframe tbody tr th:only-of-type {\n",
       "        vertical-align: middle;\n",
       "    }\n",
       "\n",
       "    .dataframe tbody tr th {\n",
       "        vertical-align: top;\n",
       "    }\n",
       "\n",
       "    .dataframe thead th {\n",
       "        text-align: right;\n",
       "    }\n",
       "</style>\n",
       "<table border=\"1\" class=\"dataframe\">\n",
       "  <thead>\n",
       "    <tr style=\"text-align: right;\">\n",
       "      <th></th>\n",
       "      <th>texts</th>\n",
       "      <th>tokenized_text</th>\n",
       "      <th>tag_text</th>\n",
       "    </tr>\n",
       "  </thead>\n",
       "  <tbody>\n",
       "    <tr>\n",
       "      <th>0</th>\n",
       "      <td>A poem I found that nearly perfectly describes...</td>\n",
       "      <td>poem i found nearly perfectly describes way i ...</td>\n",
       "      <td>a_DT poem_NN i_NN found_VBD that_IN nearly_RB ...</td>\n",
       "    </tr>\n",
       "    <tr>\n",
       "      <th>1</th>\n",
       "      <td>What holds me back anymore? I've been lonely a...</td>\n",
       "      <td>holds me back anymore i lonely miserable ten y...</td>\n",
       "      <td>what_WP holds_VBZ me_PRP back_RP anymore_RB ?_...</td>\n",
       "    </tr>\n",
       "    <tr>\n",
       "      <th>2</th>\n",
       "      <td>I’m 17, I want to kill myself, I’m being bulli...</td>\n",
       "      <td>i i want kill myself i bullied i sexually abus...</td>\n",
       "      <td>i_NN ’_VBP m_NN 17_CD ,_, i_NN want_VBP to_TO ...</td>\n",
       "    </tr>\n",
       "    <tr>\n",
       "      <th>3</th>\n",
       "      <td>I love my girlfriend, but I don't know how to ...</td>\n",
       "      <td>i love my girlfriend i know show it she convin...</td>\n",
       "      <td>i_NN love_VBP my_PRP$ girlfriend_NN ,_, but_CC...</td>\n",
       "    </tr>\n",
       "    <tr>\n",
       "      <th>4</th>\n",
       "      <td>I’m 17, I want to kill myself, I’m being bulli...</td>\n",
       "      <td>i i want kill myself i bullied i sexually abus...</td>\n",
       "      <td>i_NN ’_VBP m_NN 17_CD ,_, i_NN want_VBP to_TO ...</td>\n",
       "    </tr>\n",
       "  </tbody>\n",
       "</table>\n",
       "</div>"
      ],
      "text/plain": [
       "                                               texts  \\\n",
       "0  A poem I found that nearly perfectly describes...   \n",
       "1  What holds me back anymore? I've been lonely a...   \n",
       "2  I’m 17, I want to kill myself, I’m being bulli...   \n",
       "3  I love my girlfriend, but I don't know how to ...   \n",
       "4  I’m 17, I want to kill myself, I’m being bulli...   \n",
       "\n",
       "                                      tokenized_text  \\\n",
       "0  poem i found nearly perfectly describes way i ...   \n",
       "1  holds me back anymore i lonely miserable ten y...   \n",
       "2  i i want kill myself i bullied i sexually abus...   \n",
       "3  i love my girlfriend i know show it she convin...   \n",
       "4  i i want kill myself i bullied i sexually abus...   \n",
       "\n",
       "                                            tag_text  \n",
       "0  a_DT poem_NN i_NN found_VBD that_IN nearly_RB ...  \n",
       "1  what_WP holds_VBZ me_PRP back_RP anymore_RB ?_...  \n",
       "2  i_NN ’_VBP m_NN 17_CD ,_, i_NN want_VBP to_TO ...  \n",
       "3  i_NN love_VBP my_PRP$ girlfriend_NN ,_, but_CC...  \n",
       "4  i_NN ’_VBP m_NN 17_CD ,_, i_NN want_VBP to_TO ...  "
      ]
     },
     "execution_count": 117,
     "metadata": {},
     "output_type": "execute_result"
    }
   ],
   "source": [
    "suicide_new.drop_duplicates(keep='first', inplace = True)\n",
    "suicide_new.head()"
   ]
  },
  {
   "cell_type": "markdown",
   "metadata": {},
   "source": [
    "#### If we have more time"
   ]
  },
  {
   "cell_type": "code",
   "execution_count": 23,
   "metadata": {},
   "outputs": [],
   "source": [
    "from nltk.stem import PorterStemmer\n",
    "ps = PorterStemmer() \n",
    "\n",
    "data['tokenized_text'] = data[\"tokenized_text\"].apply(lambda x: [ps.stem(word) for word in x])"
   ]
  },
  {
   "cell_type": "code",
   "execution_count": 25,
   "metadata": {},
   "outputs": [],
   "source": [
    "data.to_pickle(\"depression_tokenised_stemmed.pickle\", index = False)"
   ]
  }
 ],
 "metadata": {
  "kernelspec": {
   "display_name": "Python 3 (Anaconda 3)",
   "language": "python",
   "name": "anaconda3-python3"
  },
  "language_info": {
   "codemirror_mode": {
    "name": "ipython",
    "version": 3
   },
   "file_extension": ".py",
   "mimetype": "text/x-python",
   "name": "python",
   "nbconvert_exporter": "python",
   "pygments_lexer": "ipython3",
   "version": "3.8.3"
  }
 },
 "nbformat": 4,
 "nbformat_minor": 4
}
