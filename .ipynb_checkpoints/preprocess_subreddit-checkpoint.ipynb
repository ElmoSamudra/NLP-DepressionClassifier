{
 "cells": [
  {
   "cell_type": "code",
   "execution_count": 81,
   "metadata": {},
   "outputs": [],
   "source": [
    "import pandas as pd\n",
    "import nltk\n",
    "import re\n",
    "import matplotlib.pyplot as plt\n",
    "import seaborn as sns\n",
    "import numpy as np"
   ]
  },
  {
   "cell_type": "code",
   "execution_count": 94,
   "metadata": {},
   "outputs": [],
   "source": [
    "data = pd.read_csv('../depression.csv', lineterminator='\\n')"
   ]
  },
  {
   "cell_type": "code",
   "execution_count": 3,
   "metadata": {},
   "outputs": [
    {
     "name": "stdout",
     "output_type": "stream",
     "text": [
      "<class 'pandas.core.frame.DataFrame'>\n",
      "RangeIndex: 957593 entries, 0 to 957592\n",
      "Data columns (total 2 columns):\n",
      " #   Column     Non-Null Count   Dtype \n",
      "---  ------     --------------   ----- \n",
      " 0   title      957589 non-null  object\n",
      " 1   self_text  851537 non-null  object\n",
      "dtypes: object(2)\n",
      "memory usage: 14.6+ MB\n"
     ]
    }
   ],
   "source": [
    "data.info()"
   ]
  },
  {
   "cell_type": "code",
   "execution_count": 95,
   "metadata": {},
   "outputs": [
    {
     "data": {
      "text/plain": [
       "title             4\n",
       "self_text    106056\n",
       "dtype: int64"
      ]
     },
     "execution_count": 95,
     "metadata": {},
     "output_type": "execute_result"
    }
   ],
   "source": [
    "data.isnull().sum()"
   ]
  },
  {
   "cell_type": "markdown",
   "metadata": {},
   "source": [
    "#### Remove all nans after being scraped from subreddit"
   ]
  },
  {
   "cell_type": "code",
   "execution_count": 96,
   "metadata": {},
   "outputs": [
    {
     "data": {
      "text/plain": [
       "title        0\n",
       "self_text    0\n",
       "dtype: int64"
      ]
     },
     "execution_count": 96,
     "metadata": {},
     "output_type": "execute_result"
    }
   ],
   "source": [
    "data.replace(np.nan, '', regex=True, inplace = True)\n",
    "data.isnull().sum()"
   ]
  },
  {
   "cell_type": "markdown",
   "metadata": {},
   "source": [
    "#### Append title and text together"
   ]
  },
  {
   "cell_type": "code",
   "execution_count": 14,
   "metadata": {},
   "outputs": [],
   "source": [
    "data['title'] = data['title'].astype('str')\n",
    "data['self_text'] = data['self_text'].astype('str')"
   ]
  },
  {
   "cell_type": "markdown",
   "metadata": {},
   "source": [
    "#### Check if there is the regular check-in post"
   ]
  },
  {
   "cell_type": "code",
   "execution_count": 97,
   "metadata": {},
   "outputs": [],
   "source": [
    "reminder_text = [\"Regular Check-In Post\", \"Regular Check-In Post. Plus, a reminder about the No-Activism Rule.\"]\n",
    "reminder_text = [i.lower() for i in reminder_text]\n",
    "data['count_regular_check'] = data['title'].apply(lambda x: search_word(x.lower(), reminder_text))"
   ]
  },
  {
   "cell_type": "code",
   "execution_count": 98,
   "metadata": {},
   "outputs": [
    {
     "data": {
      "text/html": [
       "<div>\n",
       "<style scoped>\n",
       "    .dataframe tbody tr th:only-of-type {\n",
       "        vertical-align: middle;\n",
       "    }\n",
       "\n",
       "    .dataframe tbody tr th {\n",
       "        vertical-align: top;\n",
       "    }\n",
       "\n",
       "    .dataframe thead th {\n",
       "        text-align: right;\n",
       "    }\n",
       "</style>\n",
       "<table border=\"1\" class=\"dataframe\">\n",
       "  <thead>\n",
       "    <tr style=\"text-align: right;\">\n",
       "      <th></th>\n",
       "      <th>title</th>\n",
       "      <th>self_text</th>\n",
       "      <th>count_regular_check</th>\n",
       "    </tr>\n",
       "  </thead>\n",
       "  <tbody>\n",
       "    <tr>\n",
       "      <th>167043</th>\n",
       "      <td>I'm doing a regular check-in post for goal kee...</td>\n",
       "      <td>[removed]</td>\n",
       "      <td>1</td>\n",
       "    </tr>\n",
       "    <tr>\n",
       "      <th>558691</th>\n",
       "      <td>Regular Check-In Post</td>\n",
       "      <td>Welcome to /r/depression's check-in post - a p...</td>\n",
       "      <td>1</td>\n",
       "    </tr>\n",
       "    <tr>\n",
       "      <th>654109</th>\n",
       "      <td>Regular Check-In Post</td>\n",
       "      <td>Welcome to /r/depression's check-in post - a p...</td>\n",
       "      <td>1</td>\n",
       "    </tr>\n",
       "    <tr>\n",
       "      <th>687307</th>\n",
       "      <td>The fact the \"Regular Check-In Post\" was over ...</td>\n",
       "      <td></td>\n",
       "      <td>1</td>\n",
       "    </tr>\n",
       "    <tr>\n",
       "      <th>742651</th>\n",
       "      <td>Regular Check-In Post</td>\n",
       "      <td>Welcome to /r/depression's check-in post - a p...</td>\n",
       "      <td>1</td>\n",
       "    </tr>\n",
       "    <tr>\n",
       "      <th>842974</th>\n",
       "      <td>Regular Check-In Post</td>\n",
       "      <td>Welcome to /r/depression's check-in post - a p...</td>\n",
       "      <td>1</td>\n",
       "    </tr>\n",
       "  </tbody>\n",
       "</table>\n",
       "</div>"
      ],
      "text/plain": [
       "                                                    title  \\\n",
       "167043  I'm doing a regular check-in post for goal kee...   \n",
       "558691                              Regular Check-In Post   \n",
       "654109                              Regular Check-In Post   \n",
       "687307  The fact the \"Regular Check-In Post\" was over ...   \n",
       "742651                              Regular Check-In Post   \n",
       "842974                              Regular Check-In Post   \n",
       "\n",
       "                                                self_text  count_regular_check  \n",
       "167043                                          [removed]                    1  \n",
       "558691  Welcome to /r/depression's check-in post - a p...                    1  \n",
       "654109  Welcome to /r/depression's check-in post - a p...                    1  \n",
       "687307                                                                       1  \n",
       "742651  Welcome to /r/depression's check-in post - a p...                    1  \n",
       "842974  Welcome to /r/depression's check-in post - a p...                    1  "
      ]
     },
     "execution_count": 98,
     "metadata": {},
     "output_type": "execute_result"
    }
   ],
   "source": [
    "data[data['count_regular_check']==1]"
   ]
  },
  {
   "cell_type": "code",
   "execution_count": 99,
   "metadata": {},
   "outputs": [
    {
     "name": "stdout",
     "output_type": "stream",
     "text": [
      "There are 6 post of regular check-in\n"
     ]
    }
   ],
   "source": [
    "len_post = data[data['count_regular_check']==1].shape[0]\n",
    "print(f'There are {len_post} post of regular check-in')"
   ]
  },
  {
   "cell_type": "code",
   "execution_count": 100,
   "metadata": {},
   "outputs": [],
   "source": [
    "data = data.loc[data['count_regular_check']==0]"
   ]
  },
  {
   "cell_type": "code",
   "execution_count": 101,
   "metadata": {},
   "outputs": [
    {
     "data": {
      "text/plain": [
       "(957587, 3)"
      ]
     },
     "execution_count": 101,
     "metadata": {},
     "output_type": "execute_result"
    }
   ],
   "source": [
    "data.shape"
   ]
  },
  {
   "cell_type": "markdown",
   "metadata": {},
   "source": [
    "#### Append the title and text together"
   ]
  },
  {
   "cell_type": "code",
   "execution_count": 102,
   "metadata": {},
   "outputs": [],
   "source": [
    "data['texts'] = data['title']+\" \"+data['self_text']"
   ]
  },
  {
   "cell_type": "code",
   "execution_count": 103,
   "metadata": {},
   "outputs": [],
   "source": [
    "data.drop(labels=['title', 'self_text'], axis=1, inplace = True)"
   ]
  },
  {
   "cell_type": "code",
   "execution_count": 104,
   "metadata": {},
   "outputs": [
    {
     "data": {
      "text/html": [
       "<div>\n",
       "<style scoped>\n",
       "    .dataframe tbody tr th:only-of-type {\n",
       "        vertical-align: middle;\n",
       "    }\n",
       "\n",
       "    .dataframe tbody tr th {\n",
       "        vertical-align: top;\n",
       "    }\n",
       "\n",
       "    .dataframe thead th {\n",
       "        text-align: right;\n",
       "    }\n",
       "</style>\n",
       "<table border=\"1\" class=\"dataframe\">\n",
       "  <thead>\n",
       "    <tr style=\"text-align: right;\">\n",
       "      <th></th>\n",
       "      <th>count_regular_check</th>\n",
       "      <th>texts</th>\n",
       "    </tr>\n",
       "  </thead>\n",
       "  <tbody>\n",
       "    <tr>\n",
       "      <th>0</th>\n",
       "      <td>0</td>\n",
       "      <td>So many kinds of therapists...what to choose? ...</td>\n",
       "    </tr>\n",
       "    <tr>\n",
       "      <th>1</th>\n",
       "      <td>0</td>\n",
       "      <td>i'm drawing a comic thing ---</td>\n",
       "    </tr>\n",
       "    <tr>\n",
       "      <th>2</th>\n",
       "      <td>0</td>\n",
       "      <td>Tired of rejection.. I'm 20 [M] and never had ...</td>\n",
       "    </tr>\n",
       "    <tr>\n",
       "      <th>3</th>\n",
       "      <td>0</td>\n",
       "      <td>Everyone thinks I'm fine.. but I'm no where cl...</td>\n",
       "    </tr>\n",
       "    <tr>\n",
       "      <th>4</th>\n",
       "      <td>0</td>\n",
       "      <td>honesty I drink most nights because I am unhap...</td>\n",
       "    </tr>\n",
       "  </tbody>\n",
       "</table>\n",
       "</div>"
      ],
      "text/plain": [
       "   count_regular_check                                              texts\n",
       "0                    0  So many kinds of therapists...what to choose? ...\n",
       "1                    0                      i'm drawing a comic thing ---\n",
       "2                    0  Tired of rejection.. I'm 20 [M] and never had ...\n",
       "3                    0  Everyone thinks I'm fine.. but I'm no where cl...\n",
       "4                    0  honesty I drink most nights because I am unhap..."
      ]
     },
     "execution_count": 104,
     "metadata": {},
     "output_type": "execute_result"
    }
   ],
   "source": [
    "data.head()"
   ]
  },
  {
   "cell_type": "markdown",
   "metadata": {},
   "source": [
    "#### Find specific occurences of depressed words"
   ]
  },
  {
   "cell_type": "code",
   "execution_count": 105,
   "metadata": {},
   "outputs": [],
   "source": [
    "words_of_interest = ['depressed', 'depression', 'stress', 'help', \n",
    "                     'suicide', 'devastated', 'frustrated',\n",
    "                    \"upsetting\", \"distressing\", \"painful\", \"heartbreaking\", \n",
    "                     \"dispiriting\", \"disheartening\", \"discouraging\", \"demoralizing\"]"
   ]
  },
  {
   "cell_type": "code",
   "execution_count": 106,
   "metadata": {},
   "outputs": [],
   "source": [
    "def search_word(data, words):\n",
    "    for each_word in words:\n",
    "        if re.search(each_word, data):\n",
    "            return 1\n",
    "    return 0"
   ]
  },
  {
   "cell_type": "code",
   "execution_count": 107,
   "metadata": {},
   "outputs": [],
   "source": [
    "data['count'] = data['texts'].apply(lambda x: search_word(x, words_of_interest))"
   ]
  },
  {
   "cell_type": "code",
   "execution_count": 108,
   "metadata": {},
   "outputs": [
    {
     "name": "stdout",
     "output_type": "stream",
     "text": [
      "Number of posts that contain depressed words: 514864\n"
     ]
    }
   ],
   "source": [
    "tot = data['count'].sum()\n",
    "print(f'Number of posts that contain depressed words: {tot}')"
   ]
  },
  {
   "cell_type": "code",
   "execution_count": 109,
   "metadata": {},
   "outputs": [
    {
     "data": {
      "text/html": [
       "<div>\n",
       "<style scoped>\n",
       "    .dataframe tbody tr th:only-of-type {\n",
       "        vertical-align: middle;\n",
       "    }\n",
       "\n",
       "    .dataframe tbody tr th {\n",
       "        vertical-align: top;\n",
       "    }\n",
       "\n",
       "    .dataframe thead th {\n",
       "        text-align: right;\n",
       "    }\n",
       "</style>\n",
       "<table border=\"1\" class=\"dataframe\">\n",
       "  <thead>\n",
       "    <tr style=\"text-align: right;\">\n",
       "      <th></th>\n",
       "      <th>count_regular_check</th>\n",
       "      <th>texts</th>\n",
       "      <th>count</th>\n",
       "    </tr>\n",
       "  </thead>\n",
       "  <tbody>\n",
       "    <tr>\n",
       "      <th>1</th>\n",
       "      <td>0</td>\n",
       "      <td>i'm drawing a comic thing ---</td>\n",
       "      <td>0</td>\n",
       "    </tr>\n",
       "    <tr>\n",
       "      <th>2</th>\n",
       "      <td>0</td>\n",
       "      <td>Tired of rejection.. I'm 20 [M] and never had ...</td>\n",
       "      <td>0</td>\n",
       "    </tr>\n",
       "    <tr>\n",
       "      <th>4</th>\n",
       "      <td>0</td>\n",
       "      <td>honesty I drink most nights because I am unhap...</td>\n",
       "      <td>0</td>\n",
       "    </tr>\n",
       "    <tr>\n",
       "      <th>10</th>\n",
       "      <td>0</td>\n",
       "      <td>I hate taking medication I hate taking the med...</td>\n",
       "      <td>0</td>\n",
       "    </tr>\n",
       "    <tr>\n",
       "      <th>15</th>\n",
       "      <td>0</td>\n",
       "      <td>Wanna talk?</td>\n",
       "      <td>0</td>\n",
       "    </tr>\n",
       "  </tbody>\n",
       "</table>\n",
       "</div>"
      ],
      "text/plain": [
       "    count_regular_check                                              texts  \\\n",
       "1                     0                      i'm drawing a comic thing ---   \n",
       "2                     0  Tired of rejection.. I'm 20 [M] and never had ...   \n",
       "4                     0  honesty I drink most nights because I am unhap...   \n",
       "10                    0  I hate taking medication I hate taking the med...   \n",
       "15                    0                                       Wanna talk?    \n",
       "\n",
       "    count  \n",
       "1       0  \n",
       "2       0  \n",
       "4       0  \n",
       "10      0  \n",
       "15      0  "
      ]
     },
     "execution_count": 109,
     "metadata": {},
     "output_type": "execute_result"
    }
   ],
   "source": [
    "data[data['count']==0].head()"
   ]
  },
  {
   "cell_type": "markdown",
   "metadata": {},
   "source": [
    "#### Find ambiguous posts"
   ]
  },
  {
   "cell_type": "code",
   "execution_count": 110,
   "metadata": {},
   "outputs": [],
   "source": [
    "data['len_text'] = data['texts'].apply(lambda x: len(x.split()))"
   ]
  },
  {
   "cell_type": "code",
   "execution_count": 111,
   "metadata": {},
   "outputs": [],
   "source": [
    "no_depressed_words = data[data['count']==0]"
   ]
  },
  {
   "cell_type": "code",
   "execution_count": 112,
   "metadata": {},
   "outputs": [
    {
     "data": {
      "image/png": "[encoded data removed]",
      "text/plain": [
       "<Figure size 576x432 with 1 Axes>"
      ]
     },
     "metadata": {
      "needs_background": "light"
     },
     "output_type": "display_data"
    }
   ],
   "source": [
    "plt.figure(figsize=(8, 6))\n",
    "sns.distplot(np.log(no_depressed_words['len_text']))\n",
    "plt.title('Distribution of len sentences in no depressed posts words')\n",
    "plt.xlabel('log normalised length of text')\n",
    "plt.show()"
   ]
  },
  {
   "cell_type": "code",
   "execution_count": 115,
   "metadata": {},
   "outputs": [
    {
     "data": {
      "text/html": [
       "<div>\n",
       "<style scoped>\n",
       "    .dataframe tbody tr th:only-of-type {\n",
       "        vertical-align: middle;\n",
       "    }\n",
       "\n",
       "    .dataframe tbody tr th {\n",
       "        vertical-align: top;\n",
       "    }\n",
       "\n",
       "    .dataframe thead th {\n",
       "        text-align: right;\n",
       "    }\n",
       "</style>\n",
       "<table border=\"1\" class=\"dataframe\">\n",
       "  <thead>\n",
       "    <tr style=\"text-align: right;\">\n",
       "      <th></th>\n",
       "      <th>count_regular_check</th>\n",
       "      <th>texts</th>\n",
       "      <th>count</th>\n",
       "      <th>len_text</th>\n",
       "    </tr>\n",
       "  </thead>\n",
       "  <tbody>\n",
       "    <tr>\n",
       "      <th>1</th>\n",
       "      <td>0</td>\n",
       "      <td>i'm drawing a comic thing ---</td>\n",
       "      <td>0</td>\n",
       "      <td>6</td>\n",
       "    </tr>\n",
       "    <tr>\n",
       "      <th>15</th>\n",
       "      <td>0</td>\n",
       "      <td>Wanna talk?</td>\n",
       "      <td>0</td>\n",
       "      <td>2</td>\n",
       "    </tr>\n",
       "    <tr>\n",
       "      <th>36</th>\n",
       "      <td>0</td>\n",
       "      <td>Why? http://25.media.tumblr.com/tumblr_llseziv...</td>\n",
       "      <td>0</td>\n",
       "      <td>2</td>\n",
       "    </tr>\n",
       "    <tr>\n",
       "      <th>48</th>\n",
       "      <td>0</td>\n",
       "      <td>Self portrait. The links in my comments..</td>\n",
       "      <td>0</td>\n",
       "      <td>7</td>\n",
       "    </tr>\n",
       "    <tr>\n",
       "      <th>136</th>\n",
       "      <td>0</td>\n",
       "      <td>Feeling a bit lonely, want to chat</td>\n",
       "      <td>0</td>\n",
       "      <td>7</td>\n",
       "    </tr>\n",
       "    <tr>\n",
       "      <th>166</th>\n",
       "      <td>0</td>\n",
       "      <td>A \"creative outlet\" http://imgur.com/a/zVtaJ</td>\n",
       "      <td>0</td>\n",
       "      <td>4</td>\n",
       "    </tr>\n",
       "    <tr>\n",
       "      <th>174</th>\n",
       "      <td>0</td>\n",
       "      <td>Sadness can feel good too...</td>\n",
       "      <td>0</td>\n",
       "      <td>5</td>\n",
       "    </tr>\n",
       "    <tr>\n",
       "      <th>179</th>\n",
       "      <td>0</td>\n",
       "      <td>how i feel every day (xpost from r/funny)</td>\n",
       "      <td>0</td>\n",
       "      <td>8</td>\n",
       "    </tr>\n",
       "    <tr>\n",
       "      <th>206</th>\n",
       "      <td>0</td>\n",
       "      <td>The power of controlling your own emotions..</td>\n",
       "      <td>0</td>\n",
       "      <td>7</td>\n",
       "    </tr>\n",
       "    <tr>\n",
       "      <th>300</th>\n",
       "      <td>0</td>\n",
       "      <td>I fucking hate my life ugh</td>\n",
       "      <td>0</td>\n",
       "      <td>6</td>\n",
       "    </tr>\n",
       "    <tr>\n",
       "      <th>303</th>\n",
       "      <td>0</td>\n",
       "      <td>Empty</td>\n",
       "      <td>0</td>\n",
       "      <td>1</td>\n",
       "    </tr>\n",
       "    <tr>\n",
       "      <th>349</th>\n",
       "      <td>0</td>\n",
       "      <td>Hey guys.</td>\n",
       "      <td>0</td>\n",
       "      <td>2</td>\n",
       "    </tr>\n",
       "    <tr>\n",
       "      <th>374</th>\n",
       "      <td>0</td>\n",
       "      <td>Help. Anyone have time to talk?</td>\n",
       "      <td>0</td>\n",
       "      <td>6</td>\n",
       "    </tr>\n",
       "    <tr>\n",
       "      <th>565</th>\n",
       "      <td>0</td>\n",
       "      <td>Take What you Need I took motivation.</td>\n",
       "      <td>0</td>\n",
       "      <td>7</td>\n",
       "    </tr>\n",
       "    <tr>\n",
       "      <th>573</th>\n",
       "      <td>0</td>\n",
       "      <td>How to easily change your mood</td>\n",
       "      <td>0</td>\n",
       "      <td>6</td>\n",
       "    </tr>\n",
       "    <tr>\n",
       "      <th>630</th>\n",
       "      <td>0</td>\n",
       "      <td>Winter sorrow</td>\n",
       "      <td>0</td>\n",
       "      <td>2</td>\n",
       "    </tr>\n",
       "    <tr>\n",
       "      <th>702</th>\n",
       "      <td>0</td>\n",
       "      <td>Am I being overly sensitive?</td>\n",
       "      <td>0</td>\n",
       "      <td>5</td>\n",
       "    </tr>\n",
       "    <tr>\n",
       "      <th>728</th>\n",
       "      <td>0</td>\n",
       "      <td>Anyone want to chat? With cams maybe?</td>\n",
       "      <td>0</td>\n",
       "      <td>7</td>\n",
       "    </tr>\n",
       "    <tr>\n",
       "      <th>729</th>\n",
       "      <td>0</td>\n",
       "      <td>Does anyone want to talk? I'm feeling weird.</td>\n",
       "      <td>0</td>\n",
       "      <td>8</td>\n",
       "    </tr>\n",
       "    <tr>\n",
       "      <th>832</th>\n",
       "      <td>0</td>\n",
       "      <td>URGENT POST.PLEASE READ.</td>\n",
       "      <td>0</td>\n",
       "      <td>3</td>\n",
       "    </tr>\n",
       "  </tbody>\n",
       "</table>\n",
       "</div>"
      ],
      "text/plain": [
       "     count_regular_check                                              texts  \\\n",
       "1                      0                      i'm drawing a comic thing ---   \n",
       "15                     0                                       Wanna talk?    \n",
       "36                     0  Why? http://25.media.tumblr.com/tumblr_llseziv...   \n",
       "48                     0          Self portrait. The links in my comments..   \n",
       "136                    0                Feeling a bit lonely, want to chat    \n",
       "166                    0       A \"creative outlet\" http://imgur.com/a/zVtaJ   \n",
       "174                    0                      Sadness can feel good too...    \n",
       "179                    0         how i feel every day (xpost from r/funny)    \n",
       "206                    0      The power of controlling your own emotions..    \n",
       "300                    0                         I fucking hate my life ugh   \n",
       "303                    0                                             Empty    \n",
       "349                    0                                         Hey guys.    \n",
       "374                    0                   Help. Anyone have time to talk?    \n",
       "565                    0              Take What you Need I took motivation.   \n",
       "573                    0                    How to easily change your mood    \n",
       "630                    0                                     Winter sorrow    \n",
       "702                    0                     Am I being overly sensitive?     \n",
       "728                    0             Anyone want to chat? With cams maybe?    \n",
       "729                    0       Does anyone want to talk? I'm feeling weird.   \n",
       "832                    0                          URGENT POST.PLEASE READ.    \n",
       "\n",
       "     count  len_text  \n",
       "1        0         6  \n",
       "15       0         2  \n",
       "36       0         2  \n",
       "48       0         7  \n",
       "136      0         7  \n",
       "166      0         4  \n",
       "174      0         5  \n",
       "179      0         8  \n",
       "206      0         7  \n",
       "300      0         6  \n",
       "303      0         1  \n",
       "349      0         2  \n",
       "374      0         6  \n",
       "565      0         7  \n",
       "573      0         6  \n",
       "630      0         2  \n",
       "702      0         5  \n",
       "728      0         7  \n",
       "729      0         8  \n",
       "832      0         3  "
      ]
     },
     "execution_count": 115,
     "metadata": {},
     "output_type": "execute_result"
    }
   ],
   "source": [
    "no_depressed_words[no_depressed_words['len_text']<=8].head(20)"
   ]
  },
  {
   "cell_type": "markdown",
   "metadata": {},
   "source": [
    "It seems that sentences with length below 8 may be a bit ambiguous; thus, it is best to discard this sentences. Based on google, the average words for a proper sentences are 15."
   ]
  },
  {
   "cell_type": "code",
   "execution_count": 116,
   "metadata": {},
   "outputs": [],
   "source": [
    "remove_this_index = no_depressed_words[no_depressed_words['len_text']<15].index"
   ]
  },
  {
   "cell_type": "code",
   "execution_count": 117,
   "metadata": {},
   "outputs": [],
   "source": [
    "retain_index = set(data.index)-set(remove_this_index)\n",
    "data = data.loc[retain_index, :]"
   ]
  },
  {
   "cell_type": "code",
   "execution_count": 119,
   "metadata": {},
   "outputs": [
    {
     "data": {
      "text/plain": [
       "(840632, 4)"
      ]
     },
     "execution_count": 119,
     "metadata": {},
     "output_type": "execute_result"
    }
   ],
   "source": [
    "data.shape"
   ]
  },
  {
   "cell_type": "markdown",
   "metadata": {},
   "source": [
    "## Tokenize and Clean"
   ]
  },
  {
   "cell_type": "code",
   "execution_count": 16,
   "metadata": {},
   "outputs": [
    {
     "name": "stderr",
     "output_type": "stream",
     "text": [
      "[nltk_data] Downloading package punkt to\n",
      "[nltk_data]     /home/student.unimelb.edu.au/jprasetiyo/nltk_data...\n",
      "[nltk_data]   Package punkt is already up-to-date!\n"
     ]
    },
    {
     "data": {
      "text/plain": [
       "True"
      ]
     },
     "execution_count": 16,
     "metadata": {},
     "output_type": "execute_result"
    }
   ],
   "source": [
    "from nltk.tokenize import word_tokenize\n",
    "import nltk\n",
    "nltk.download('punkt')"
   ]
  },
  {
   "cell_type": "code",
   "execution_count": 15,
   "metadata": {},
   "outputs": [],
   "source": [
    "data['tokenized_text'] = data['texts']"
   ]
  },
  {
   "cell_type": "code",
   "execution_count": 17,
   "metadata": {},
   "outputs": [],
   "source": [
    "data['tokenized_text'] = data[\"tokenized_text\"].apply(lambda x: x.lower()).apply(word_tokenize)"
   ]
  },
  {
   "cell_type": "code",
   "execution_count": 18,
   "metadata": {},
   "outputs": [],
   "source": [
    "stop_words = [ 'what', 'which', 'who', 'whom', 'this', 'that', \"that'll\",'these', 'those', 'am', 'is', 'was', 'were',\n",
    " 'be','been', 'being', 'have', 'has', 'had', 'having', 'do', 'does', 'did', 'doing', 'a', 'an', 'the', 'and', 'but',\n",
    " 'if', 'or', 'because', 'as', 'until', 'while', 'of', 'at', 'by', 'for', 'with', 'about', 'against', 'between', 'into',\n",
    " 'through', 'during', 'before','after', 'above', 'below', 'to', 'from', 'up', 'down', 'in', 'out', 'on','off', 'over',\n",
    " 'under', 'again', 'further', 'then', 'once', 'here', 'there', 'when', 'where', 'why', 'how', 'all', 'any', 'both', 'each',\n",
    " 'few', 'more', 'most', 'other', 'such', 'no', 'nor', 'not', 'only', 'own', 'same', 'so', 'than', 'too', 'very', 's', 't', 'can',\n",
    " 'will', 'just', 'don', \"don't\", 'should', \"should've\", 'now', 'd', 'll', 'm', 'o', 're', 've', 'y', 'ain', 'aren', \"aren't\",\n",
    " 'couldn', \"couldn't\", 'didn', \"didn't\", 'doesn', \"doesn't\", 'hadn', \"hadn't\", 'hasn', \"hasn't\", 'haven', \"haven't\", 'isn',\n",
    "  \"isn't\", 'ma', 'mightn',\"mightn't\", 'mustn', \"mustn't\", 'needn', \"needn't\", 'shan', \"shan't\", 'shouldn', \"shouldn't\", 'wasn',\n",
    " \"wasn't\", 'weren', \"weren't\", 'won',\"won't\", 'wouldn',\"wouldn't\", \"http\"]\n",
    "\n",
    "\n",
    "# remove stop words\n",
    "data['tokenized_text'] = data[\"tokenized_text\"].apply(lambda x: [word for word in x if word not in stop_words])"
   ]
  },
  {
   "cell_type": "code",
   "execution_count": 20,
   "metadata": {},
   "outputs": [],
   "source": [
    "# remove non alphanumeric words\n",
    "data['tokenized_text'] = data[\"tokenized_text\"].apply(lambda x: [word for word in x if word.isalnum()])"
   ]
  },
  {
   "cell_type": "code",
   "execution_count": 21,
   "metadata": {},
   "outputs": [],
   "source": [
    "data.to_csv(\"depression_tokenized.csv\", index=False)"
   ]
  },
  {
   "cell_type": "code",
   "execution_count": 22,
   "metadata": {},
   "outputs": [
    {
     "data": {
      "text/html": [
       "<div>\n",
       "<style scoped>\n",
       "    .dataframe tbody tr th:only-of-type {\n",
       "        vertical-align: middle;\n",
       "    }\n",
       "\n",
       "    .dataframe tbody tr th {\n",
       "        vertical-align: top;\n",
       "    }\n",
       "\n",
       "    .dataframe thead th {\n",
       "        text-align: right;\n",
       "    }\n",
       "</style>\n",
       "<table border=\"1\" class=\"dataframe\">\n",
       "  <thead>\n",
       "    <tr style=\"text-align: right;\">\n",
       "      <th></th>\n",
       "      <th>texts</th>\n",
       "      <th>count</th>\n",
       "      <th>tokenized_text</th>\n",
       "    </tr>\n",
       "  </thead>\n",
       "  <tbody>\n",
       "    <tr>\n",
       "      <th>0</th>\n",
       "      <td>So many kinds of therapists...what to choose? ...</td>\n",
       "      <td>1</td>\n",
       "      <td>[many, kinds, therapists, choose, pretty, simp...</td>\n",
       "    </tr>\n",
       "    <tr>\n",
       "      <th>1</th>\n",
       "      <td>i'm drawing a comic thing ---</td>\n",
       "      <td>0</td>\n",
       "      <td>[i, drawing, comic, thing]</td>\n",
       "    </tr>\n",
       "    <tr>\n",
       "      <th>2</th>\n",
       "      <td>Tired of rejection.. I'm 20 [M] and never had ...</td>\n",
       "      <td>0</td>\n",
       "      <td>[tired, i, 20, never, real, girlfriend, relati...</td>\n",
       "    </tr>\n",
       "    <tr>\n",
       "      <th>3</th>\n",
       "      <td>Everyone thinks I'm fine.. but I'm no where cl...</td>\n",
       "      <td>1</td>\n",
       "      <td>[everyone, thinks, i, i, close, i, really, min...</td>\n",
       "    </tr>\n",
       "    <tr>\n",
       "      <th>4</th>\n",
       "      <td>honesty I drink most nights because I am unhap...</td>\n",
       "      <td>0</td>\n",
       "      <td>[honesty, i, drink, nights, i, unhappy, i, unh...</td>\n",
       "    </tr>\n",
       "    <tr>\n",
       "      <th>...</th>\n",
       "      <td>...</td>\n",
       "      <td>...</td>\n",
       "      <td>...</td>\n",
       "    </tr>\n",
       "    <tr>\n",
       "      <th>957588</th>\n",
       "      <td>Someone please answer As you can see by the ti...</td>\n",
       "      <td>1</td>\n",
       "      <td>[someone, please, answer, you, see, title, my,...</td>\n",
       "    </tr>\n",
       "    <tr>\n",
       "      <th>957589</th>\n",
       "      <td>I've usually been the person to show up and he...</td>\n",
       "      <td>1</td>\n",
       "      <td>[i, usually, person, show, help, everyone, i, ...</td>\n",
       "    </tr>\n",
       "    <tr>\n",
       "      <th>957590</th>\n",
       "      <td>My life is just kinda shit I'm a college stude...</td>\n",
       "      <td>0</td>\n",
       "      <td>[my, life, kinda, shit, i, college, student, i...</td>\n",
       "    </tr>\n",
       "    <tr>\n",
       "      <th>957591</th>\n",
       "      <td>I survived A few months ago I survived an over...</td>\n",
       "      <td>0</td>\n",
       "      <td>[i, survived, months, ago, i, survived, overdo...</td>\n",
       "    </tr>\n",
       "    <tr>\n",
       "      <th>957592</th>\n",
       "      <td>I lost my brother 6 months ago in March 13 I l...</td>\n",
       "      <td>0</td>\n",
       "      <td>[i, lost, my, brother, 6, months, ago, march, ...</td>\n",
       "    </tr>\n",
       "  </tbody>\n",
       "</table>\n",
       "<p>957593 rows × 3 columns</p>\n",
       "</div>"
      ],
      "text/plain": [
       "                                                    texts  count  \\\n",
       "0       So many kinds of therapists...what to choose? ...      1   \n",
       "1                           i'm drawing a comic thing ---      0   \n",
       "2       Tired of rejection.. I'm 20 [M] and never had ...      0   \n",
       "3       Everyone thinks I'm fine.. but I'm no where cl...      1   \n",
       "4       honesty I drink most nights because I am unhap...      0   \n",
       "...                                                   ...    ...   \n",
       "957588  Someone please answer As you can see by the ti...      1   \n",
       "957589  I've usually been the person to show up and he...      1   \n",
       "957590  My life is just kinda shit I'm a college stude...      0   \n",
       "957591  I survived A few months ago I survived an over...      0   \n",
       "957592  I lost my brother 6 months ago in March 13 I l...      0   \n",
       "\n",
       "                                           tokenized_text  \n",
       "0       [many, kinds, therapists, choose, pretty, simp...  \n",
       "1                              [i, drawing, comic, thing]  \n",
       "2       [tired, i, 20, never, real, girlfriend, relati...  \n",
       "3       [everyone, thinks, i, i, close, i, really, min...  \n",
       "4       [honesty, i, drink, nights, i, unhappy, i, unh...  \n",
       "...                                                   ...  \n",
       "957588  [someone, please, answer, you, see, title, my,...  \n",
       "957589  [i, usually, person, show, help, everyone, i, ...  \n",
       "957590  [my, life, kinda, shit, i, college, student, i...  \n",
       "957591  [i, survived, months, ago, i, survived, overdo...  \n",
       "957592  [i, lost, my, brother, 6, months, ago, march, ...  \n",
       "\n",
       "[957593 rows x 3 columns]"
      ]
     },
     "execution_count": 22,
     "metadata": {},
     "output_type": "execute_result"
    }
   ],
   "source": [
    "data"
   ]
  },
  {
   "cell_type": "code",
   "execution_count": 23,
   "metadata": {},
   "outputs": [],
   "source": [
    "from nltk.stem import PorterStemmer\n",
    "ps = PorterStemmer() \n",
    "\n",
    "data['tokenized_text'] = data[\"tokenized_text\"].apply(lambda x: [ps.stem(word) for word in x])"
   ]
  },
  {
   "cell_type": "code",
   "execution_count": 25,
   "metadata": {},
   "outputs": [],
   "source": [
    "data.to_csv(\"depression_tokenised_stemmed.csv\", index = False)"
   ]
  }
 ],
 "metadata": {
  "kernelspec": {
   "display_name": "Python 3",
   "language": "python",
   "name": "python3"
  },
  "language_info": {
   "codemirror_mode": {
    "name": "ipython",
    "version": 3
   },
   "file_extension": ".py",
   "mimetype": "text/x-python",
   "name": "python",
   "nbconvert_exporter": "python",
   "pygments_lexer": "ipython3",
   "version": "3.6.9"
  }
 },
 "nbformat": 4,
 "nbformat_minor": 4
}
