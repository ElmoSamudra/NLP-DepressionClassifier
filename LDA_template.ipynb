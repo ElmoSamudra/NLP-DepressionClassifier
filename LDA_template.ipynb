{
 "cells": [
  {
   "cell_type": "code",
   "execution_count": 1,
   "metadata": {},
   "outputs": [],
   "source": [
    "from sklearn.decomposition import LatentDirichletAllocation"
   ]
  },
  {
   "cell_type": "code",
   "execution_count": null,
   "metadata": {},
   "outputs": [],
   "source": [
    "LDA = LatentDirichletAllocation(n_components= , random_state=42 )\n"
   ]
  },
  {
   "cell_type": "code",
   "execution_count": null,
   "metadata": {},
   "outputs": [],
   "source": [
    "# fit\n",
    "LDA.fit(tfidf)\n",
    "\n",
    "# components\n",
    "# here, each component will consist of a probability for each word in the topic\n",
    "LDA.components_"
   ]
  },
  {
   "cell_type": "code",
   "execution_count": null,
   "metadata": {},
   "outputs": [],
   "source": [
    "topic_one = LDA.components_[0]\n",
    "# get the top 10 words with the highest probability for each document \n",
    "top_10_words = topic_one.argsort()[-10:]"
   ]
  },
  {
   "cell_type": "code",
   "execution_count": null,
   "metadata": {},
   "outputs": [],
   "source": [
    "# print the top 10 words\n",
    "for index in top_10_words:\n",
    "    print(tfidf.get_features_name()[index])"
   ]
  },
  {
   "cell_type": "code",
   "execution_count": null,
   "metadata": {},
   "outputs": [],
   "source": [
    "dic_top_20_words = {}\n",
    "all_components = LDA.components_\n",
    "count = 0\n",
    "\n",
    "for each_topic in all_components:\n",
    "    # get the top 20 words with the highest probability for each document \n",
    "    key_name = f'topic_{count}'\n",
    "    dic_top_20_words[key_name] = each_topic.argsort()[-20:]\n"
   ]
  },
  {
   "cell_type": "code",
   "execution_count": null,
   "metadata": {},
   "outputs": [],
   "source": [
    "def print_words(dic):\n",
    "    for index, topic in enumerate(dic.keys()):\n",
    "        print(f'Top 20 words in topic {index+1}')\n",
    "        print(dic[topic])"
   ]
  },
  {
   "cell_type": "code",
   "execution_count": null,
   "metadata": {},
   "outputs": [],
   "source": [
    "# display the top 20 words for each topic\n",
    "print_words(dic_top_20_words)"
   ]
  },
  {
   "cell_type": "code",
   "execution_count": null,
   "metadata": {},
   "outputs": [],
   "source": [
    "# dtm here is the fit transform of tfidf\n",
    "# the result here will be the probability of each document in each topic\n",
    "topic_results = LDA.transform(dtm)"
   ]
  },
  {
   "cell_type": "code",
   "execution_count": null,
   "metadata": {},
   "outputs": [],
   "source": [
    "topic_allocation = topic_results.argmax(axis=1)"
   ]
  }
 ],
 "metadata": {
  "kernelspec": {
   "display_name": "Python 3",
   "language": "python",
   "name": "python3"
  },
  "language_info": {
   "codemirror_mode": {
    "name": "ipython",
    "version": 3
   },
   "file_extension": ".py",
   "mimetype": "text/x-python",
   "name": "python",
   "nbconvert_exporter": "python",
   "pygments_lexer": "ipython3",
   "version": "3.6.9"
  }
 },
 "nbformat": 4,
 "nbformat_minor": 4
}
