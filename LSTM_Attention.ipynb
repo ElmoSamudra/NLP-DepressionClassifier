{
 "cells": [
  {
   "cell_type": "code",
   "execution_count": 30,
   "metadata": {},
   "outputs": [],
   "source": [
    "import numpy as np\n",
    "import pandas as pd\n",
    "from numpy import array\n",
    "from numpy import cumsum\n",
    "import matplotlib.pyplot as plt\n",
    "\n",
    "\n",
    "import multiprocessing\n",
    "from tqdm import tqdm\n",
    "\n",
    "# from spam\n",
    "from collections import Counter\n",
    "\n",
    "\n",
    "# keras\n",
    "from keras.models import Sequential, Model\n",
    "from keras.layers import LSTM, Dense, TimeDistributed, Bidirectional, Embedding, Input\n",
    "from keras.layers import Embedding, Flatten, Activation, RepeatVector, Permute, multiply, Lambda\n",
    "from keras.optimizers import Adam\n",
    "from keras.preprocessing.text import Tokenizer\n",
    "from keras.preprocessing.sequence import pad_sequences\n",
    "from keras import backend\n",
    "\n",
    "from sklearn.metrics import precision_score, recall_score, accuracy_score, confusion_matrix, roc_auc_score, classification_report"
   ]
  },
  {
   "cell_type": "code",
   "execution_count": 2,
   "metadata": {},
   "outputs": [],
   "source": [
    "X_train = pd.read_csv('../X_train.csv')\n",
    "X_test = pd.read_csv('../X_test.csv')"
   ]
  },
  {
   "cell_type": "code",
   "execution_count": 3,
   "metadata": {},
   "outputs": [
    {
     "data": {
      "text/plain": [
       "tokenized_text    0\n",
       "mental_state      0\n",
       "dtype: int64"
      ]
     },
     "execution_count": 3,
     "metadata": {},
     "output_type": "execute_result"
    }
   ],
   "source": [
    "X_train = X_train.dropna()\n",
    "X_train.isnull().sum()"
   ]
  },
  {
   "cell_type": "code",
   "execution_count": 4,
   "metadata": {},
   "outputs": [
    {
     "data": {
      "text/plain": [
       "tokenized_text    0\n",
       "mental_state      0\n",
       "dtype: int64"
      ]
     },
     "execution_count": 4,
     "metadata": {},
     "output_type": "execute_result"
    }
   ],
   "source": [
    "X_test = X_test.dropna()\n",
    "X_test.isnull().sum()"
   ]
  },
  {
   "cell_type": "code",
   "execution_count": 5,
   "metadata": {},
   "outputs": [],
   "source": [
    "X_test.reset_index(inplace = True)\n",
    "X_train.reset_index(inplace = True)"
   ]
  },
  {
   "cell_type": "code",
   "execution_count": 6,
   "metadata": {},
   "outputs": [],
   "source": [
    "tokenizer = Tokenizer()\n",
    "tokenizer.fit_on_texts(list(X_train['tokenized_text']))\n",
    "list_tokenized_train = tokenizer.texts_to_sequences(X_train['tokenized_text'])\n",
    "list_tokenized_test = tokenizer.texts_to_sequences(X_test['tokenized_text'])"
   ]
  },
  {
   "cell_type": "code",
   "execution_count": 7,
   "metadata": {},
   "outputs": [],
   "source": [
    "pad_train = pad_sequences(list_tokenized_train, maxlen=150, padding='post')\n",
    "pad_test = pad_sequences(list_tokenized_test, maxlen=150, padding='post')"
   ]
  },
  {
   "cell_type": "code",
   "execution_count": 8,
   "metadata": {},
   "outputs": [],
   "source": [
    "y_target = pd.get_dummies(X_train['mental_state']).values\n",
    "y_target_test = pd.get_dummies(X_test['mental_state']).values"
   ]
  },
  {
   "cell_type": "code",
   "execution_count": 9,
   "metadata": {},
   "outputs": [],
   "source": [
    "vocab_size = len(tokenizer.word_index)+1"
   ]
  },
  {
   "cell_type": "markdown",
   "metadata": {},
   "source": [
    "## Glove"
   ]
  },
  {
   "cell_type": "code",
   "execution_count": 10,
   "metadata": {},
   "outputs": [],
   "source": [
    "# import zipfile\n",
    "# with zipfile.ZipFile('../glove.42B.300d.zip', 'r') as zip_ref:\n",
    "#     zip_ref.extractall('../glove.42B.300d')"
   ]
  },
  {
   "cell_type": "code",
   "execution_count": 11,
   "metadata": {},
   "outputs": [
    {
     "name": "stderr",
     "output_type": "stream",
     "text": [
      "1917495it [01:54, 16712.26it/s]\n"
     ]
    }
   ],
   "source": [
    "embedding_vector = {}\n",
    "f = open('../glove.42B.300d/glove.42B.300d.txt')\n",
    "for line in tqdm(f):\n",
    "    value = line.split(' ')\n",
    "    word = value[0]\n",
    "    coef = np.array(value[1:],dtype = 'float32')\n",
    "    embedding_vector[word] = coef"
   ]
  },
  {
   "cell_type": "code",
   "execution_count": 12,
   "metadata": {},
   "outputs": [
    {
     "name": "stderr",
     "output_type": "stream",
     "text": [
      "100%|██████████| 257265/257265 [00:00<00:00, 399550.19it/s]\n"
     ]
    }
   ],
   "source": [
    "embedding_matrix = np.zeros((vocab_size,300))\n",
    "for word,i in tqdm(tokenizer.word_index.items()):\n",
    "    embedding_value = embedding_vector.get(word)\n",
    "    if embedding_value is not None:\n",
    "        embedding_matrix[i] = embedding_value"
   ]
  },
  {
   "cell_type": "markdown",
   "metadata": {},
   "source": [
    "## LSTM with Attention"
   ]
  },
  {
   "cell_type": "markdown",
   "metadata": {},
   "source": [
    "https://stackoverflow.com/questions/42918446/how-to-add-an-attention-mechanism-in-keras"
   ]
  },
  {
   "cell_type": "code",
   "execution_count": 15,
   "metadata": {},
   "outputs": [
    {
     "name": "stdout",
     "output_type": "stream",
     "text": [
      "Model: \"functional_3\"\n",
      "__________________________________________________________________________________________________\n",
      "Layer (type)                    Output Shape         Param #     Connected to                     \n",
      "==================================================================================================\n",
      "input_2 (InputLayer)            [(None, 150)]        0                                            \n",
      "__________________________________________________________________________________________________\n",
      "embedding_1 (Embedding)         (None, 150, 300)     77179800    input_2[0][0]                    \n",
      "__________________________________________________________________________________________________\n",
      "lstm_1 (LSTM)                   (None, 150, 64)      93440       embedding_1[0][0]                \n",
      "__________________________________________________________________________________________________\n",
      "time_distributed_1 (TimeDistrib (None, 150, 1)       65          lstm_1[0][0]                     \n",
      "__________________________________________________________________________________________________\n",
      "flatten_2 (Flatten)             (None, 150)          0           time_distributed_1[0][0]         \n",
      "__________________________________________________________________________________________________\n",
      "activation_1 (Activation)       (None, 150)          0           flatten_2[0][0]                  \n",
      "__________________________________________________________________________________________________\n",
      "repeat_vector_1 (RepeatVector)  (None, 64, 150)      0           activation_1[0][0]               \n",
      "__________________________________________________________________________________________________\n",
      "permute_1 (Permute)             (None, 150, 64)      0           repeat_vector_1[0][0]            \n",
      "__________________________________________________________________________________________________\n",
      "multiply_1 (Multiply)           (None, 150, 64)      0           lstm_1[0][0]                     \n",
      "                                                                 permute_1[0][0]                  \n",
      "__________________________________________________________________________________________________\n",
      "lambda_1 (Lambda)               (None, 150)          0           multiply_1[0][0]                 \n",
      "__________________________________________________________________________________________________\n",
      "flatten_3 (Flatten)             (None, 150)          0           lambda_1[0][0]                   \n",
      "__________________________________________________________________________________________________\n",
      "dense_3 (Dense)                 (None, 3)            453         flatten_3[0][0]                  \n",
      "==================================================================================================\n",
      "Total params: 77,273,758\n",
      "Trainable params: 93,958\n",
      "Non-trainable params: 77,179,800\n",
      "__________________________________________________________________________________________________\n",
      "None\n"
     ]
    }
   ],
   "source": [
    "units = 64\n",
    "\n",
    "_input = Input(shape=(pad_train.shape[1],), dtype='int64')\n",
    "\n",
    "# get the embedding layer\n",
    "embedded = Embedding(vocab_size,300,weights = [embedding_matrix],input_length=150,trainable = False)(_input)\n",
    "\n",
    "activations = LSTM(units, return_sequences=True)(embedded)\n",
    "\n",
    "# compute importance for each step\n",
    "attention = TimeDistributed(Dense(1, activation='tanh'))(activations) \n",
    "attention = Flatten()(attention)\n",
    "attention = Activation('softmax')(attention)\n",
    "attention = RepeatVector(units)(attention)\n",
    "attention = Permute([2, 1])(attention)\n",
    "\n",
    "# apply the attention\n",
    "sent_representation = multiply([activations, attention])\n",
    "sent_representation = Lambda(lambda xin: backend.sum(xin, axis=2), output_shape=(units,))(sent_representation)\n",
    "sent_representation = Flatten()(sent_representation)\n",
    "\n",
    "probabilities = Dense(3, activation='softmax')(sent_representation)\n",
    "\n",
    "model = Model(inputs=_input, outputs=probabilities)\n",
    "model.compile(optimizer='adam', loss='categorical_crossentropy', metrics=['accuracy'])\n",
    "print(model.summary())"
   ]
  },
  {
   "cell_type": "code",
   "execution_count": 17,
   "metadata": {},
   "outputs": [
    {
     "name": "stdout",
     "output_type": "stream",
     "text": [
      "Epoch 1/10\n",
      "5153/5153 [==============================] - 1958s 380ms/step - loss: 0.5910 - accuracy: 0.7396 - val_loss: 0.5344 - val_accuracy: 0.7662\n",
      "Epoch 2/10\n",
      "5153/5153 [==============================] - 1959s 380ms/step - loss: 0.5170 - accuracy: 0.7727 - val_loss: 0.5011 - val_accuracy: 0.7801\n",
      "Epoch 3/10\n",
      "5153/5153 [==============================] - 1976s 383ms/step - loss: 0.4943 - accuracy: 0.7829 - val_loss: 0.4933 - val_accuracy: 0.7840\n",
      "Epoch 4/10\n",
      "5153/5153 [==============================] - 1984s 385ms/step - loss: 0.4866 - accuracy: 0.7867 - val_loss: 0.4867 - val_accuracy: 0.7873\n",
      "Epoch 5/10\n",
      "5153/5153 [==============================] - 2020s 392ms/step - loss: 0.4744 - accuracy: 0.7923 - val_loss: 0.4848 - val_accuracy: 0.7879\n",
      "Epoch 6/10\n",
      "5153/5153 [==============================] - 2035s 395ms/step - loss: 0.4686 - accuracy: 0.7951 - val_loss: 0.4808 - val_accuracy: 0.7892\n",
      "Epoch 7/10\n",
      "5153/5153 [==============================] - 2043s 396ms/step - loss: 0.4609 - accuracy: 0.7986 - val_loss: 0.4755 - val_accuracy: 0.7917\n",
      "Epoch 8/10\n",
      "5153/5153 [==============================] - 2041s 396ms/step - loss: 0.4557 - accuracy: 0.8011 - val_loss: 0.4849 - val_accuracy: 0.7880\n",
      "Epoch 9/10\n",
      "5153/5153 [==============================] - 2021s 392ms/step - loss: 0.4516 - accuracy: 0.8024 - val_loss: 0.4795 - val_accuracy: 0.7919\n",
      "Epoch 10/10\n",
      "5153/5153 [==============================] - 2023s 393ms/step - loss: 0.4479 - accuracy: 0.8045 - val_loss: 0.4757 - val_accuracy: 0.7928\n"
     ]
    }
   ],
   "source": [
    "es = EarlyStopping(monitor='val_loss', mode='min', verbose=1, patience=2)\n",
    "history = model.fit(pad_train, y_target, batch_size=256, epochs=10, validation_split=0.1, verbose=1, callbacks = [es])"
   ]
  },
  {
   "cell_type": "code",
   "execution_count": 21,
   "metadata": {},
   "outputs": [],
   "source": [
    "model.save(\"../model_lstmAttention_10_epoch.h5\")"
   ]
  },
  {
   "cell_type": "code",
   "execution_count": null,
   "metadata": {},
   "outputs": [],
   "source": [
    "from tensorflow import keras\n",
    "model = keras.models.load_model(\"../model_lstmAttention_10_epoch.h5\")"
   ]
  },
  {
   "cell_type": "code",
   "execution_count": 22,
   "metadata": {},
   "outputs": [],
   "source": [
    "def performance(y_true, y_hat):\n",
    "    \n",
    "    y_true = list(map(lambda x: np.argmax(x), y_true))\n",
    "    y_hat = list(map(lambda x: np.argmax(x), y_hat))\n",
    "    \n",
    "    y_true_roc = pd.DataFrame(y_true, columns = ['mental_state'])\n",
    "    y_hat_roc = pd.DataFrame(y_hat, columns = ['mental_state'])\n",
    "    \n",
    "    y_true_roc = pd.get_dummies(y_true_roc['mental_state']).values\n",
    "    y_hat_roc = pd.get_dummies(y_hat_roc['mental_state']).values\n",
    "    \n",
    "    # result template\n",
    "    print('-'*40+' Result Report '+'-'*40)\n",
    "    \n",
    "    # Accuracy\n",
    "    print('Accuracy: ', accuracy_score(y_true,y_hat))\n",
    "    \n",
    "    # Confusion matrix\n",
    "    print('\\n')\n",
    "    print('Confusion Matrix: \\n', confusion_matrix(y_true,y_hat))\n",
    "    print('\\n')\n",
    "\n",
    "    # Classification Report\n",
    "    print('Classification Report: \\n')\n",
    "    print(classification_report(y_true, y_hat))\n",
    "    print('\\n')\n",
    "    \n",
    "    # Aggregated area under the ROC curve\n",
    "    print('Area under ROC curve: ', roc_auc_score(y_true_roc, y_hat_roc, multi_class='ovo'))\n",
    "    \n",
    "    print('-'*95)"
   ]
  },
  {
   "cell_type": "markdown",
   "metadata": {},
   "source": [
    "### Result"
   ]
  },
  {
   "cell_type": "code",
   "execution_count": 24,
   "metadata": {},
   "outputs": [],
   "source": [
    "predictions = model.predict(pad_test)"
   ]
  },
  {
   "cell_type": "code",
   "execution_count": 27,
   "metadata": {},
   "outputs": [
    {
     "name": "stdout",
     "output_type": "stream",
     "text": [
      "---------------------------------------- Result Report ----------------------------------------\n",
      "Accuracy:  0.792497884998499\n",
      "\n",
      "\n",
      "Confusion Matrix: \n",
      " [[ 97199   8745   2018]\n",
      " [  9742 135081  23302]\n",
      " [  4373  27855  58115]]\n",
      "\n",
      "\n",
      "Classification Report: \n",
      "\n",
      "              precision    recall  f1-score   support\n",
      "\n",
      "           0       0.87      0.90      0.89    107962\n",
      "           1       0.79      0.80      0.80    168125\n",
      "           2       0.70      0.64      0.67     90343\n",
      "\n",
      "    accuracy                           0.79    366430\n",
      "   macro avg       0.79      0.78      0.78    366430\n",
      "weighted avg       0.79      0.79      0.79    366430\n",
      "\n",
      "\n",
      "\n",
      "Area under ROC curve:  0.8360248798168861\n",
      "-----------------------------------------------------------------------------------------------\n"
     ]
    }
   ],
   "source": [
    "performance(y_target_test, predictions)"
   ]
  },
  {
   "cell_type": "markdown",
   "metadata": {},
   "source": [
    "### Plot the history result to check for overfit"
   ]
  },
  {
   "cell_type": "code",
   "execution_count": 32,
   "metadata": {},
   "outputs": [
    {
     "data": {
      "image/png": "[encoded data removed]",
      "text/plain": [
       "<Figure size 432x288 with 1 Axes>"
      ]
     },
     "metadata": {
      "needs_background": "light"
     },
     "output_type": "display_data"
    }
   ],
   "source": [
    "plt.plot(history.history['accuracy'])\n",
    "plt.plot(history.history['val_accuracy'])\n",
    "plt.title('model accuracy')\n",
    "plt.ylabel('accuracy')\n",
    "plt.xlabel('epoch')\n",
    "plt.legend(['train', 'validation'], loc='upper left')\n",
    "plt.show()"
   ]
  },
  {
   "cell_type": "code",
   "execution_count": 31,
   "metadata": {},
   "outputs": [
    {
     "data": {
      "image/png": "[encoded data removed]",
      "text/plain": [
       "<Figure size 432x288 with 1 Axes>"
      ]
     },
     "metadata": {
      "needs_background": "light"
     },
     "output_type": "display_data"
    }
   ],
   "source": [
    "plt.plot(history.history['loss'])\n",
    "plt.plot(history.history['val_loss'])\n",
    "plt.title('model loss')\n",
    "plt.ylabel('loss')\n",
    "plt.xlabel('epoch')\n",
    "plt.legend(['train', 'validation'], loc='upper left')\n",
    "plt.show()"
   ]
  },
  {
   "cell_type": "code",
   "execution_count": 36,
   "metadata": {},
   "outputs": [],
   "source": [
    "def check_mental_state(model, post, tokenizer):\n",
    "    \n",
    "    dic_state = {0:'Normal', 1:'Depressed', 2:'Suicidal'}\n",
    "    \n",
    "    SET_LIMIT_SENTENCE = 150\n",
    "    \n",
    "    print('Post: \\n')\n",
    "    print(post)\n",
    "    print('\\n')\n",
    "    \n",
    "    list_post = [post]\n",
    "    list_post_tokenized = tokenizer.texts_to_sequences(list_post)\n",
    "    post_pad = pad_sequences(list_post_tokenized, maxlen=SET_LIMIT_SENTENCE, padding='post')\n",
    "    \n",
    "    # classify mental state\n",
    "    mental_state = model.predict(post_pad)\n",
    "    \n",
    "    print('Normal: ', str(round(mental_state[0][0], 2)*100)+'%')\n",
    "    print('Depressed: ', str(round(mental_state[0][1], 2)*100)+'%')\n",
    "    print('Suicidal: ', str(round(mental_state[0][2], 2)*100)+'%')\n",
    "    \n",
    "    classify_state = np.argmax(mental_state[0])\n",
    "    #list(map(lambda x: np.argmax(x), mental_state))\n",
    "    \n",
    "    print('\\n')\n",
    "    print('Model Classify: ', dic_state[classify_state])"
   ]
  },
  {
   "cell_type": "code",
   "execution_count": 37,
   "metadata": {},
   "outputs": [
    {
     "name": "stdout",
     "output_type": "stream",
     "text": [
      "Post: \n",
      "\n",
      "i know i tried everything guys i gone different psychologists types anti depressants i made effort get bed every day walk my dog go gym read distant feeling increases exponentially day i never really loved life i loved people it lately spark disappeared i connect anyone fine i even connect my parents kills me inside i want stop mundane cycle my life become initially i told myself i stick it them i longer hold restrictions i always tried my best persevere keep looking forward i cried day today i realized threshold kept me taking action disappeared i want it feel selfish even thoughts somewhere i smiled loved i feel outcome inevitable please help\n",
      "\n",
      "\n",
      "Normal:  0.0%\n",
      "Depressed:  52.99999713897705%\n",
      "Suicidal:  46.00000083446503%\n",
      "\n",
      "\n",
      "Model Classify:  Depressed\n"
     ]
    }
   ],
   "source": [
    "post = X_test[X_test['mental_state']==2]['tokenized_text'][19]\n",
    "check_mental_state(model, post, tokenizer)"
   ]
  },
  {
   "cell_type": "code",
   "execution_count": 38,
   "metadata": {},
   "outputs": [
    {
     "name": "stdout",
     "output_type": "stream",
     "text": [
      "Post: \n",
      "\n",
      "cc room get enough love time day come play some music hang cc room great way find new music chatting lovely people we got people room we would love come party us follow link https hit headphones sidebar go room you need sign you account already it quick easy\n",
      "\n",
      "\n",
      "Normal:  98.00000190734863%\n",
      "Depressed:  1.9999999552965164%\n",
      "Suicidal:  0.0%\n",
      "\n",
      "\n",
      "Model Classify:  Normal\n"
     ]
    }
   ],
   "source": [
    "post = X_test[X_test['mental_state']==0]['tokenized_text'][2]\n",
    "check_mental_state(model, post, tokenizer)"
   ]
  },
  {
   "cell_type": "code",
   "execution_count": 39,
   "metadata": {},
   "outputs": [
    {
     "name": "stdout",
     "output_type": "stream",
     "text": [
      "Post: \n",
      "\n",
      "i suicidal thoughts first time i suicidal thoughts i able speak my problems end my parents finally took me psychologist they always said i lazy lot sad things happened my grandfather passed away i terribly low i feeling hopeful barely suicidal thoughts still confidence months back my parents started arguing lot leading divorce my mom lied much got me stressed point i ca sleep night i also started going gym improve my i feel tired i think i give warning might trigger i tried commit suicide times never told my parents mostly tried hanging myself i always wanted die quickly last night i tried cut myself never thought i would i scared i might myself my psychologist vacation i feel guilty make my parents waste money me i think i deserve it i getting distant my friends i want hurt them i kill myself i trying keep my mind busy arguing making me stressed every day it seems like one end me amp amp\n",
      "\n",
      "\n",
      "Normal:  0.0%\n",
      "Depressed:  43.00000071525574%\n",
      "Suicidal:  56.99999928474426%\n",
      "\n",
      "\n",
      "Model Classify:  Suicidal\n"
     ]
    }
   ],
   "source": [
    "post = X_test[X_test['mental_state']==1]['tokenized_text'][366423]\n",
    "check_mental_state(model, post, tokenizer)"
   ]
  },
  {
   "cell_type": "code",
   "execution_count": null,
   "metadata": {},
   "outputs": [],
   "source": []
  },
  {
   "cell_type": "code",
   "execution_count": null,
   "metadata": {},
   "outputs": [],
   "source": []
  },
  {
   "cell_type": "code",
   "execution_count": null,
   "metadata": {},
   "outputs": [],
   "source": []
  },
  {
   "cell_type": "code",
   "execution_count": null,
   "metadata": {},
   "outputs": [],
   "source": []
  },
  {
   "cell_type": "code",
   "execution_count": null,
   "metadata": {},
   "outputs": [],
   "source": []
  },
  {
   "cell_type": "code",
   "execution_count": null,
   "metadata": {},
   "outputs": [],
   "source": []
  },
  {
   "cell_type": "code",
   "execution_count": null,
   "metadata": {},
   "outputs": [],
   "source": []
  }
 ],
 "metadata": {
  "environment": {
   "name": "tf2-2-3-gpu.2-3.m56",
   "type": "gcloud",
   "uri": "gcr.io/deeplearning-platform-release/tf2-2-3-gpu.2-3:m56"
  },
  "kernelspec": {
   "display_name": "Python 3",
   "language": "python",
   "name": "python3"
  },
  "language_info": {
   "codemirror_mode": {
    "name": "ipython",
    "version": 3
   },
   "file_extension": ".py",
   "mimetype": "text/x-python",
   "name": "python",
   "nbconvert_exporter": "python",
   "pygments_lexer": "ipython3",
   "version": "3.7.8"
  }
 },
 "nbformat": 4,
 "nbformat_minor": 4
}
