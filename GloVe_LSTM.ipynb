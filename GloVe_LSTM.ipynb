{
 "cells": [
  {
   "cell_type": "code",
   "execution_count": 34,
   "metadata": {},
   "outputs": [],
   "source": [
    "import pandas as pd\n",
    "import numpy as np\n",
    "import matplotlib.pyplot as plt\n",
    "\n",
    "# split\n",
    "from sklearn.model_selection import StratifiedShuffleSplit\n",
    "\n",
    "# from spam\n",
    "from collections import Counter\n",
    "\n",
    "# word embedding\n",
    "from gensim.models import Word2Vec\n",
    "import multiprocessing\n",
    "from tqdm import tqdm\n",
    "\n",
    "# keras\n",
    "from keras.preprocessing import sequence\n",
    "from keras.regularizers import l2\n",
    "from keras.models import Model, Sequential\n",
    "from keras.layers.merge import concatenate\n",
    "from keras.callbacks import EarlyStopping, ModelCheckpoint, TensorBoard\n",
    "from keras.layers import Dense, GlobalMaxPooling1D, Activation, Dropout, GaussianNoise, LSTM, Bidirectional\n",
    "from keras.layers import Embedding, Input, BatchNormalization, SpatialDropout1D, Conv1D, Concatenate\n",
    "from keras.optimizers import Adam\n",
    "from keras.preprocessing.text import Tokenizer\n",
    "from keras.preprocessing.sequence import pad_sequences\n",
    "from keras.models import Sequential\n",
    "import tensorflow as tf\n",
    "\n",
    "from sklearn.metrics import precision_score, recall_score, accuracy_score, confusion_matrix, roc_auc_score, classification_report"
   ]
  },
  {
   "cell_type": "code",
   "execution_count": null,
   "metadata": {},
   "outputs": [],
   "source": []
  },
  {
   "cell_type": "code",
   "execution_count": 2,
   "metadata": {},
   "outputs": [],
   "source": [
    "X_train = pd.read_pickle('X_train_new.pickle')\n",
    "X_test = pd.read_pickle('X_test_new.pickle')"
   ]
  },
  {
   "cell_type": "code",
   "execution_count": 3,
   "metadata": {},
   "outputs": [],
   "source": [
    "X_train.dropna(inplace= True)\n",
    "X_test.dropna(inplace= True)"
   ]
  },
  {
   "cell_type": "code",
   "execution_count": 54,
   "metadata": {},
   "outputs": [],
   "source": [
    "X_test.reset_index(inplace=True)"
   ]
  },
  {
   "cell_type": "code",
   "execution_count": 56,
   "metadata": {},
   "outputs": [
    {
     "data": {
      "text/html": [
       "<div>\n",
       "<style scoped>\n",
       "    .dataframe tbody tr th:only-of-type {\n",
       "        vertical-align: middle;\n",
       "    }\n",
       "\n",
       "    .dataframe tbody tr th {\n",
       "        vertical-align: top;\n",
       "    }\n",
       "\n",
       "    .dataframe thead th {\n",
       "        text-align: right;\n",
       "    }\n",
       "</style>\n",
       "<table border=\"1\" class=\"dataframe\">\n",
       "  <thead>\n",
       "    <tr style=\"text-align: right;\">\n",
       "      <th></th>\n",
       "      <th>index</th>\n",
       "      <th>tokenized_text</th>\n",
       "      <th>mental_state</th>\n",
       "    </tr>\n",
       "  </thead>\n",
       "  <tbody>\n",
       "    <tr>\n",
       "      <th>0</th>\n",
       "      <td>0</td>\n",
       "      <td>i feel myself anymore i hate my school none pe...</td>\n",
       "      <td>1</td>\n",
       "    </tr>\n",
       "    <tr>\n",
       "      <th>1</th>\n",
       "      <td>1</td>\n",
       "      <td>monetary gifts kids it seems days kids always ...</td>\n",
       "      <td>0</td>\n",
       "    </tr>\n",
       "    <tr>\n",
       "      <th>2</th>\n",
       "      <td>2</td>\n",
       "      <td>cc room get enough love time day come play som...</td>\n",
       "      <td>0</td>\n",
       "    </tr>\n",
       "    <tr>\n",
       "      <th>3</th>\n",
       "      <td>3</td>\n",
       "      <td>you ever wonder extent you are actually contro...</td>\n",
       "      <td>0</td>\n",
       "    </tr>\n",
       "    <tr>\n",
       "      <th>4</th>\n",
       "      <td>4</td>\n",
       "      <td>my problems building i come clean it week hard...</td>\n",
       "      <td>1</td>\n",
       "    </tr>\n",
       "    <tr>\n",
       "      <th>...</th>\n",
       "      <td>...</td>\n",
       "      <td>...</td>\n",
       "      <td>...</td>\n",
       "    </tr>\n",
       "    <tr>\n",
       "      <th>366425</th>\n",
       "      <td>366557</td>\n",
       "      <td>i know me my girlfriend work</td>\n",
       "      <td>0</td>\n",
       "    </tr>\n",
       "    <tr>\n",
       "      <th>366426</th>\n",
       "      <td>366558</td>\n",
       "      <td>hey i new umm i think i writing some stuff tal...</td>\n",
       "      <td>0</td>\n",
       "    </tr>\n",
       "    <tr>\n",
       "      <th>366427</th>\n",
       "      <td>366559</td>\n",
       "      <td>it worth it probably i feel like everything i ...</td>\n",
       "      <td>2</td>\n",
       "    </tr>\n",
       "    <tr>\n",
       "      <th>366428</th>\n",
       "      <td>366560</td>\n",
       "      <td>i need help i feel my self slowly pulled depre...</td>\n",
       "      <td>1</td>\n",
       "    </tr>\n",
       "    <tr>\n",
       "      <th>366429</th>\n",
       "      <td>366561</td>\n",
       "      <td>i tired shit i honestly want break my suicidal...</td>\n",
       "      <td>1</td>\n",
       "    </tr>\n",
       "  </tbody>\n",
       "</table>\n",
       "<p>366430 rows × 3 columns</p>\n",
       "</div>"
      ],
      "text/plain": [
       "         index                                     tokenized_text  \\\n",
       "0            0  i feel myself anymore i hate my school none pe...   \n",
       "1            1  monetary gifts kids it seems days kids always ...   \n",
       "2            2  cc room get enough love time day come play som...   \n",
       "3            3  you ever wonder extent you are actually contro...   \n",
       "4            4  my problems building i come clean it week hard...   \n",
       "...        ...                                                ...   \n",
       "366425  366557                       i know me my girlfriend work   \n",
       "366426  366558  hey i new umm i think i writing some stuff tal...   \n",
       "366427  366559  it worth it probably i feel like everything i ...   \n",
       "366428  366560  i need help i feel my self slowly pulled depre...   \n",
       "366429  366561  i tired shit i honestly want break my suicidal...   \n",
       "\n",
       "        mental_state  \n",
       "0                  1  \n",
       "1                  0  \n",
       "2                  0  \n",
       "3                  0  \n",
       "4                  1  \n",
       "...              ...  \n",
       "366425             0  \n",
       "366426             0  \n",
       "366427             2  \n",
       "366428             1  \n",
       "366429             1  \n",
       "\n",
       "[366430 rows x 3 columns]"
      ]
     },
     "execution_count": 56,
     "metadata": {},
     "output_type": "execute_result"
    }
   ],
   "source": [
    "X_test"
   ]
  },
  {
   "cell_type": "code",
   "execution_count": 4,
   "metadata": {},
   "outputs": [],
   "source": [
    "max_features = 100"
   ]
  },
  {
   "cell_type": "code",
   "execution_count": 5,
   "metadata": {},
   "outputs": [],
   "source": [
    "tokenizer = Tokenizer(num_words=max_features)\n",
    "tokenizer.fit_on_texts(list(X_train['tokenized_text']))\n",
    "list_tokenized_train = tokenizer.texts_to_sequences(X_train['tokenized_text'])\n",
    "list_tokenized_test = tokenizer.texts_to_sequences(X_test['tokenized_text'])"
   ]
  },
  {
   "cell_type": "code",
   "execution_count": 6,
   "metadata": {},
   "outputs": [],
   "source": [
    "pad_train = pad_sequences(list_tokenized_train, maxlen=300, padding='post')\n",
    "pad_test = pad_sequences(list_tokenized_test, maxlen=300, padding='post')"
   ]
  },
  {
   "cell_type": "code",
   "execution_count": 7,
   "metadata": {},
   "outputs": [],
   "source": [
    "vocab_size = len(tokenizer.word_index)+1"
   ]
  },
  {
   "cell_type": "code",
   "execution_count": 18,
   "metadata": {},
   "outputs": [],
   "source": [
    "y_target = pd.get_dummies(X_train['mental_state']).values\n",
    "y_target_test = pd.get_dummies(X_test['mental_state']).values"
   ]
  },
  {
   "cell_type": "markdown",
   "metadata": {},
   "source": [
    "https://medium.com/@sarin.samarth07/glove-word-embeddings-with-keras-python-code-52131b0c8b1d"
   ]
  },
  {
   "cell_type": "code",
   "execution_count": 9,
   "metadata": {},
   "outputs": [
    {
     "name": "stderr",
     "output_type": "stream",
     "text": [
      "1917495it [03:03, 10462.64it/s]\n"
     ]
    }
   ],
   "source": [
    "embedding_vector = {}\n",
    "f = open('glove.42B.300d.txt')\n",
    "for line in tqdm(f):\n",
    "    value = line.split(' ')\n",
    "    word = value[0]\n",
    "    coef = np.array(value[1:],dtype = 'float32')\n",
    "    embedding_vector[word] = coef"
   ]
  },
  {
   "cell_type": "code",
   "execution_count": 10,
   "metadata": {},
   "outputs": [
    {
     "name": "stderr",
     "output_type": "stream",
     "text": [
      "100%|██████████| 257265/257265 [00:00<00:00, 332305.85it/s]\n"
     ]
    }
   ],
   "source": [
    "# create the embedding matrix\n",
    "embedding_matrix = np.zeros((vocab_size,300))\n",
    "# check if the word exist in tokenizer\n",
    "for word,i in tqdm(t.word_index.items()):\n",
    "    embedding_value = embedding_vector.get(word)\n",
    "    # some words may not exist in Glove\n",
    "    if embedding_value is not None:\n",
    "        embedding_matrix[i] = embedding_value"
   ]
  },
  {
   "cell_type": "code",
   "execution_count": 13,
   "metadata": {},
   "outputs": [],
   "source": [
    "model = Sequential()\n",
    "model.add(Embedding(vocab_size,300,weights = [embedding_matrix],input_length=300,trainable = False))\n",
    "model.add(Bidirectional(LSTM(64)))\n",
    "model.add(Dense(32,activation = 'relu'))\n",
    "model.add(Dense(3,activation = 'softmax'))\n",
    "model.compile(optimizer='adam',loss='categorical_crossentropy',metrics = ['accuracy'])\n"
   ]
  },
  {
   "cell_type": "code",
   "execution_count": 16,
   "metadata": {
    "scrolled": true
   },
   "outputs": [
    {
     "name": "stdout",
     "output_type": "stream",
     "text": [
      "Train on 1172541 samples, validate on 293136 samples\n",
      "Epoch 1/10\n",
      "1172541/1172541 [==============================] - 3731s 3ms/step - loss: 0.6920 - accuracy: 0.6853 - val_loss: 0.6850 - val_accuracy: 0.6887\n",
      "Epoch 2/10\n",
      "1172541/1172541 [==============================] - 3795s 3ms/step - loss: 0.6821 - accuracy: 0.6909 - val_loss: 0.6805 - val_accuracy: 0.6914\n",
      "Epoch 3/10\n",
      "1172541/1172541 [==============================] - 3952s 3ms/step - loss: 0.6763 - accuracy: 0.6939 - val_loss: 0.6762 - val_accuracy: 0.6931\n",
      "Epoch 4/10\n",
      "1172541/1172541 [==============================] - 3837s 3ms/step - loss: 0.6720 - accuracy: 0.6959 - val_loss: 0.6772 - val_accuracy: 0.6931\n",
      "Epoch 5/10\n",
      "1172541/1172541 [==============================] - 3929s 3ms/step - loss: 0.6687 - accuracy: 0.6977 - val_loss: 0.6733 - val_accuracy: 0.6949\n",
      "Epoch 6/10\n",
      "1172541/1172541 [==============================] - 3958s 3ms/step - loss: 0.6658 - accuracy: 0.6991 - val_loss: 0.6807 - val_accuracy: 0.6887\n",
      "Epoch 7/10\n",
      "1172541/1172541 [==============================] - 3957s 3ms/step - loss: 0.6636 - accuracy: 0.7009 - val_loss: 0.6724 - val_accuracy: 0.6955\n",
      "Epoch 8/10\n",
      " 185856/1172541 [===>..........................] - ETA: 49:17 - loss: 0.6604 - accuracy: 0.7032"
     ]
    },
    {
     "name": "stderr",
     "output_type": "stream",
     "text": [
      "IOPub message rate exceeded.\n",
      "The notebook server will temporarily stop sending output\n",
      "to the client in order to avoid crashing it.\n",
      "To change this limit, set the config variable\n",
      "`--NotebookApp.iopub_msg_rate_limit`.\n",
      "\n",
      "Current values:\n",
      "NotebookApp.iopub_msg_rate_limit=1000.0 (msgs/sec)\n",
      "NotebookApp.rate_limit_window=3.0 (secs)\n",
      "\n"
     ]
    },
    {
     "name": "stdout",
     "output_type": "stream",
     "text": [
      "1172541/1172541 [==============================] - 3973s 3ms/step - loss: 0.6597 - accuracy: 0.7025 - val_loss: 0.6745 - val_accuracy: 0.6950\n",
      "Epoch 00009: early stopping\n"
     ]
    }
   ],
   "source": [
    "es = EarlyStopping(monitor='val_loss', mode='min', verbose=1, patience=2)\n",
    "\n",
    "history = model.fit(pad_train,y_target,epochs = 10,batch_size=256,validation_split=0.2, callbacks = [es])"
   ]
  },
  {
   "cell_type": "code",
   "execution_count": 17,
   "metadata": {},
   "outputs": [],
   "source": [
    "model.save(\"model_bilstm_10_epoch.h5\")"
   ]
  },
  {
   "cell_type": "code",
   "execution_count": 29,
   "metadata": {},
   "outputs": [],
   "source": [
    "def performance(y_true, y_hat):\n",
    "    \n",
    "    y_true = list(map(lambda x: np.argmax(x), y_true))\n",
    "    y_hat = list(map(lambda x: np.argmax(x), y_hat))\n",
    "    \n",
    "    y_true_roc = pd.DataFrame(y_true, columns = ['mental_state'])\n",
    "    y_hat_roc = pd.DataFrame(y_hat, columns = ['mental_state'])\n",
    "    \n",
    "    y_true_roc = pd.get_dummies(y_true_roc['mental_state']).values\n",
    "    y_hat_roc = pd.get_dummies(y_hat_roc['mental_state']).values\n",
    "    \n",
    "    # result template\n",
    "    print('-'*40+' Result Report '+'-'*40)\n",
    "    \n",
    "    # Accuracy\n",
    "    print('Accuracy: ', accuracy_score(y_true,y_hat))\n",
    "    \n",
    "    # Confusion matrix\n",
    "    print('\\n')\n",
    "    print('Confusion Matrix: \\n', confusion_matrix(y_true,y_hat))\n",
    "    print('\\n')\n",
    "\n",
    "    # Classification Report\n",
    "    print('Classification Report: \\n')\n",
    "    print(classification_report(y_true, y_hat))\n",
    "    print('\\n')\n",
    "    \n",
    "    # Aggregated area under the ROC curve\n",
    "    print('Area under ROC curve: ', roc_auc_score(y_true_roc, y_hat_roc, multi_class='ovo'))\n",
    "    \n",
    "    print('-'*95)"
   ]
  },
  {
   "cell_type": "markdown",
   "metadata": {},
   "source": [
    "### Result"
   ]
  },
  {
   "cell_type": "code",
   "execution_count": 21,
   "metadata": {},
   "outputs": [],
   "source": [
    "predictions = model.predict(pad_test)"
   ]
  },
  {
   "cell_type": "code",
   "execution_count": 32,
   "metadata": {},
   "outputs": [
    {
     "name": "stdout",
     "output_type": "stream",
     "text": [
      "---------------------------------------- Result Report ----------------------------------------\n",
      "Accuracy:  0.6951150287913107\n",
      "\n",
      "\n",
      "Confusion Matrix: \n",
      " [[ 90957  12271   4734]\n",
      " [ 21207 121486  25432]\n",
      " [ 16534  31541  42268]]\n",
      "\n",
      "\n",
      "Classification Report: \n",
      "\n",
      "              precision    recall  f1-score   support\n",
      "\n",
      "           0       0.71      0.84      0.77    107962\n",
      "           1       0.73      0.72      0.73    168125\n",
      "           2       0.58      0.47      0.52     90343\n",
      "\n",
      "    accuracy                           0.70    366430\n",
      "   macro avg       0.68      0.68      0.67    366430\n",
      "weighted avg       0.69      0.70      0.69    366430\n",
      "\n",
      "\n",
      "\n",
      "Area under ROC curve:  0.7594554033221352\n",
      "-----------------------------------------------------------------------------------------------\n"
     ]
    }
   ],
   "source": [
    "performance(y_target_test, predictions)"
   ]
  },
  {
   "cell_type": "markdown",
   "metadata": {},
   "source": [
    "### Plot the history result to check for overfit"
   ]
  },
  {
   "cell_type": "code",
   "execution_count": 35,
   "metadata": {},
   "outputs": [
    {
     "data": {
      "image/png": "[encoded data removed]",
      "text/plain": [
       "<Figure size 432x288 with 1 Axes>"
      ]
     },
     "metadata": {
      "needs_background": "light"
     },
     "output_type": "display_data"
    }
   ],
   "source": [
    "plt.plot(history.history['accuracy'])\n",
    "plt.plot(history.history['val_accuracy'])\n",
    "plt.title('model accuracy')\n",
    "plt.ylabel('accuracy')\n",
    "plt.xlabel('epoch')\n",
    "plt.legend(['train', 'validation'], loc='upper left')\n",
    "plt.show()"
   ]
  },
  {
   "cell_type": "code",
   "execution_count": 37,
   "metadata": {},
   "outputs": [
    {
     "data": {
      "image/png": "[encoded data removed]",
      "text/plain": [
       "<Figure size 432x288 with 1 Axes>"
      ]
     },
     "metadata": {
      "needs_background": "light"
     },
     "output_type": "display_data"
    }
   ],
   "source": [
    "plt.plot(history.history['loss'])\n",
    "plt.plot(history.history['val_loss'])\n",
    "plt.title('model loss')\n",
    "plt.ylabel('loss')\n",
    "plt.xlabel('epoch')\n",
    "plt.legend(['train', 'validation'], loc='upper left')\n",
    "plt.show()"
   ]
  },
  {
   "cell_type": "code",
   "execution_count": 47,
   "metadata": {},
   "outputs": [],
   "source": [
    "def check_mental_state(model, post, tokenizer):\n",
    "    \n",
    "    dic_state = {0:'Normal', 1:'Depressed', 2:'Suicidal'}\n",
    "    \n",
    "    SET_LIMIT_SENTENCE = 300\n",
    "    \n",
    "    print('Post: \\n')\n",
    "    print(post)\n",
    "    print('\\n')\n",
    "    \n",
    "    list_post = [post]\n",
    "    list_post_tokenized = tokenizer.texts_to_sequences(list_post)\n",
    "    post_pad = pad_sequences(list_post_tokenized, maxlen=SET_LIMIT_SENTENCE, padding='post')\n",
    "    \n",
    "    # classify mental state\n",
    "    mental_state = model.predict(post_pad)\n",
    "    \n",
    "    print('Normal: ', str(round(mental_state[0][0], 2)*100)+'%')\n",
    "    print('Depressed: ', str(round(mental_state[0][1], 2)*100)+'%')\n",
    "    print('Suicidal: ', str(round(mental_state[0][2], 2)*100)+'%')\n",
    "    \n",
    "    classify_state = np.argmax(mental_state[0])\n",
    "    #list(map(lambda x: np.argmax(x), mental_state))\n",
    "    \n",
    "    print('\\n')\n",
    "    print('Model Classify: ', dic_state[classify_state])"
   ]
  },
  {
   "cell_type": "markdown",
   "metadata": {},
   "source": [
    "### Post Test"
   ]
  },
  {
   "cell_type": "code",
   "execution_count": 48,
   "metadata": {},
   "outputs": [
    {
     "name": "stdout",
     "output_type": "stream",
     "text": [
      "Post: \n",
      "\n",
      "i know i tried everything guys i gone different psychologists types anti depressants i made effort get bed every day walk my dog go gym read distant feeling increases exponentially day i never really loved life i loved people it lately spark disappeared i connect anyone fine i even connect my parents kills me inside i want stop mundane cycle my life become initially i told myself i stick it them i longer hold restrictions i always tried my best persevere keep looking forward i cried day today i realized threshold kept me taking action disappeared i want it feel selfish even thoughts somewhere i smiled loved i feel outcome inevitable please help\n",
      "\n",
      "\n",
      "Normal:  0.9999999776482582%\n",
      "Depressed:  70.99999785423279%\n",
      "Suicidal:  28.00000011920929%\n",
      "\n",
      "\n",
      "Model Classify:  Depressed\n"
     ]
    }
   ],
   "source": [
    "post = X_test[X_test['mental_state']==2]['tokenized_text'][19]\n",
    "check_mental_state(model, post, tokenizer)"
   ]
  },
  {
   "cell_type": "code",
   "execution_count": 57,
   "metadata": {},
   "outputs": [
    {
     "name": "stdout",
     "output_type": "stream",
     "text": [
      "Post: \n",
      "\n",
      "cc room get enough love time day come play some music hang cc room great way find new music chatting lovely people we got people room we would love come party us follow link https hit headphones sidebar go room you need sign you account already it quick easy\n",
      "\n",
      "\n",
      "Normal:  62.99999952316284%\n",
      "Depressed:  31.00000023841858%\n",
      "Suicidal:  5.999999865889549%\n",
      "\n",
      "\n",
      "Model Classify:  Normal\n"
     ]
    }
   ],
   "source": [
    "post = X_test[X_test['mental_state']==0]['tokenized_text'][2]\n",
    "check_mental_state(model, post, tokenizer)"
   ]
  },
  {
   "cell_type": "code",
   "execution_count": 60,
   "metadata": {},
   "outputs": [
    {
     "name": "stdout",
     "output_type": "stream",
     "text": [
      "Post: \n",
      "\n",
      "i suicidal thoughts first time i suicidal thoughts i able speak my problems end my parents finally took me psychologist they always said i lazy lot sad things happened my grandfather passed away i terribly low i feeling hopeful barely suicidal thoughts still confidence months back my parents started arguing lot leading divorce my mom lied much got me stressed point i ca sleep night i also started going gym improve my i feel tired i think i give warning might trigger i tried commit suicide times never told my parents mostly tried hanging myself i always wanted die quickly last night i tried cut myself never thought i would i scared i might myself my psychologist vacation i feel guilty make my parents waste money me i think i deserve it i getting distant my friends i want hurt them i kill myself i trying keep my mind busy arguing making me stressed every day it seems like one end me amp amp\n",
      "\n",
      "\n",
      "Normal:  5.000000074505806%\n",
      "Depressed:  50.999999046325684%\n",
      "Suicidal:  44.999998807907104%\n",
      "\n",
      "\n",
      "Model Classify:  Depressed\n"
     ]
    }
   ],
   "source": [
    "post = X_test[X_test['mental_state']==1]['tokenized_text'][366423]\n",
    "check_mental_state(model, post, tokenizer)"
   ]
  },
  {
   "cell_type": "markdown",
   "metadata": {},
   "source": [
    "### ===========================AttentionLayer=========================="
   ]
  },
  {
   "cell_type": "code",
   "execution_count": 2,
   "metadata": {},
   "outputs": [],
   "source": [
    "class Attention(tf.keras.Model):\n",
    "    def __init__(self, units):\n",
    "        super(Attention, self).__init__()\n",
    "        self.W1 = tf.keras.layers.Dense(units)\n",
    "        self.W2 = tf.keras.layers.Dense(units)\n",
    "        self.V = tf.keras.layers.Dense(1)\n",
    " \n",
    "    def call(self, features, hidden):\n",
    "        # hidden shape == (batch_size, hidden size)\n",
    "        # hidden_with_time_axis shape == (batch_size, 1, hidden size)\n",
    "        # we are doing this to perform addition to calculate the score\n",
    "        hidden_with_time_axis = tf.expand_dims(hidden, 1)\n",
    "\n",
    "        # score shape == (batch_size, max_length, 1)\n",
    "        # we get 1 at the last axis because we are applying score to self.V\n",
    "        # the shape of the tensor before applying self.V is (batch_size, max_length, units)\n",
    "        score = tf.nn.tanh(\n",
    "            self.W1(features) + self.W2(hidden_with_time_axis))\n",
    "        \n",
    "        # attention_weights shape == (batch_size, max_length, 1)\n",
    "        attention_weights = tf.nn.softmax(self.V(score), axis=1)\n",
    "\n",
    "        # context_vector shape after sum == (batch_size, hidden_size)\n",
    "        context_vector = attention_weights * features\n",
    "        context_vector = tf.reduce_sum(context_vector, axis=1)\n",
    " \n",
    "        return context_vector, attention_weights"
   ]
  },
  {
   "cell_type": "code",
   "execution_count": null,
   "metadata": {},
   "outputs": [],
   "source": [
    "inp = Input(shape=(pad_train.shape[1],), dtype='int64')\n",
    "emb = Embedding(vocab_size,300,weights = [embedding_matrix],input_length=150,trainable = False)(inp)\n",
    "RNN_CELL_SIZE = 75\n",
    "\n",
    "#lstm = Bidirectional(LSTM(RNN_CELL_SIZE, return_sequences = True), name=\"bi_lstm_0\")(emb)\n",
    "(lstm, forward_h, forward_c, backward_h, backward_c) = Bidirectional(LSTM(RNN_CELL_SIZE, return_sequences=True, return_state=True), name=\"bi_lstm_1\")(emb)\n",
    "\n",
    "state_h = Concatenate()([forward_h, backward_h])\n",
    "state_c = Concatenate()([forward_c, backward_c])\n",
    "\n",
    "context_vector, attention_weights = Attention(10)(lstm, state_h)\n",
    "\n",
    "dense1 = Dense(20, activation=\"relu\")(context_vector)\n",
    "dropout = Dropout(0.05)(dense1)\n",
    "output = Dense(1, activation=\"softmax\")(dropout)"
   ]
  },
  {
   "cell_type": "code",
   "execution_count": null,
   "metadata": {},
   "outputs": [],
   "source": []
  }
 ],
 "metadata": {
  "kernelspec": {
   "display_name": "Python 3",
   "language": "python",
   "name": "python3"
  },
  "language_info": {
   "codemirror_mode": {
    "name": "ipython",
    "version": 3
   },
   "file_extension": ".py",
   "mimetype": "text/x-python",
   "name": "python",
   "nbconvert_exporter": "python",
   "pygments_lexer": "ipython3",
   "version": "3.6.9"
  }
 },
 "nbformat": 4,
 "nbformat_minor": 4
}
